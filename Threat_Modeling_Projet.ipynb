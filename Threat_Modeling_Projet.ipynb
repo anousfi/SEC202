{
  "nbformat": 4,
  "nbformat_minor": 0,
  "metadata": {
    "colab": {
      "provenance": [],
      "authorship_tag": "ABX9TyMn3PinOuQuxYARaRqeXJLc",
      "include_colab_link": true
    },
    "kernelspec": {
      "name": "python3",
      "display_name": "Python 3"
    },
    "language_info": {
      "name": "python"
    }
  },
  "cells": [
    {
      "cell_type": "markdown",
      "metadata": {
        "id": "view-in-github",
        "colab_type": "text"
      },
      "source": [
        "<a href=\"https://colab.research.google.com/github/ent-r/SEC202/blob/master/Threat_Modeling_Projet.ipynb\" target=\"_parent\"><img src=\"https://colab.research.google.com/assets/colab-badge.svg\" alt=\"Open In Colab\"/></a>"
      ]
    },
    {
      "cell_type": "markdown",
      "source": [
        "# Implémenter un **Threat Modeling** en Python.\n",
        "\n",
        "Bien que le processus de threat modeling soit principalement conceptuel et analytique, nous pouvons utiliser Python, pour automatiser certaines parties du processus, telles que l'analyse des données, la génération de diagrammes, et la gestion des risques.\n",
        "Nous pouvons automatiser et structurer certaines parties du processus de threat modeling. Cela peut inclure la gestion des actifs, l'identification des points d'accès, la classification des menaces, l'évaluation des menaces, et la proposition de contre-mesures. Python peut être un outil puissant pour faciliter et documenter ce processus.\n",
        "\n",
        "1. Identification des actifs\n",
        "\n",
        "Lister et évaluer les actifs du système.\n"
      ],
      "metadata": {
        "id": "u9_DmTA93SaI"
      }
    },
    {
      "cell_type": "code",
      "execution_count": 6,
      "metadata": {
        "colab": {
          "base_uri": "https://localhost:8080/"
        },
        "id": "btSDvCHY3Lcz",
        "outputId": "1b125191-9804-45c5-8d61-574cd22f2e88"
      },
      "outputs": [
        {
          "output_type": "stream",
          "name": "stdout",
          "text": [
            "Asset: Capteur de pression d'eau, Value: High\n",
            "Asset: Réservoir, Value: High\n",
            "Asset: Pompe, Value: Medium\n",
            "Asset: Vanne, Value: Medium\n",
            "Asset: Système de contrôle SCADA, Value: High\n",
            "Asset: Logiciel de gestion des ressources en eau, Value: High\n",
            "Asset: Réseau de communication, Value: High\n",
            "Asset: Opérateur, Value: High\n",
            "Asset: Administrateur, Value: High\n",
            "Asset: Utilisateur final, Value: Medium\n"
          ]
        }
      ],
      "source": [
        "# Liste d'actifs - à compléter\n",
        "assets = [\n",
        "    {\"name\": \"Capteur de pression d'eau\", \"value\": \"High\"},\n",
        "    {\"name\": \"Réservoir\", \"value\": \"High\"},\n",
        "    {\"name\": \"Pompe\", \"value\": \"Medium\"},\n",
        "    {\"name\": \"Vanne\", \"value\": \"Medium\"},\n",
        "    {\"name\": \"Système de contrôle SCADA\", \"value\": \"High\"},\n",
        "    {\"name\": \"Logiciel de gestion des ressources en eau\", \"value\": \"High\"},\n",
        "    {\"name\": \"Réseau de communication\", \"value\": \"High\"},\n",
        "    {\"name\": \"Opérateur\", \"value\": \"High\"},\n",
        "    {\"name\": \"Administrateur\", \"value\": \"High\"},\n",
        "    {\"name\": \"Utilisateur final\", \"value\": \"Medium\"}\n",
        "]\n",
        "\n",
        "# Fonction pour évaluer la valeur des actifs\n",
        "def evaluate_assets(assets):\n",
        "    for asset in assets:\n",
        "        print(f\"Asset: {asset['name']}, Value: {asset['value']}\")\n",
        "\n",
        "evaluate_assets(assets)\n"
      ]
    },
    {
      "cell_type": "markdown",
      "source": [
        "2. Identification des points d'accès\n",
        "\n",
        "Lister et évaluer les points d'accès du système."
      ],
      "metadata": {
        "id": "66e2mXxsEfJ5"
      }
    },
    {
      "cell_type": "code",
      "source": [
        "# Liste de points d'accès - à compléter\n",
        "access_points = [\n",
        "    {\"name\": \"Ports USB pour la maintenance des capteurs\", \"trust_level\": \"Low\"},\n",
        "    {\"name\": \"Interfaces web pour la gestion des réservoirs\", \"trust_level\": \"Medium\"},\n",
        "    {\"name\": \"Ports réseau ouverts pour la communication entre les capteurs et les contrôleurs\", \"trust_level\": \"High\"},\n",
        "    {\"name\": \"Fichiers de configuration des dispositifs SCADA\", \"trust_level\": \"High\"}\n",
        "]\n",
        "\n",
        "# Fonction pour évaluer les points d'accès\n",
        "def evaluate_access_points(access_points):\n",
        "    for point in access_points:\n",
        "        print(f\"Access Point: {point['name']}, Trust Level: {point['trust_level']}\")\n",
        "\n",
        "evaluate_access_points(access_points)\n"
      ],
      "metadata": {
        "colab": {
          "base_uri": "https://localhost:8080/"
        },
        "id": "qSk3AgeLEVEy",
        "outputId": "928e793c-1304-4035-b432-7830da5f2389"
      },
      "execution_count": 7,
      "outputs": [
        {
          "output_type": "stream",
          "name": "stdout",
          "text": [
            "Access Point: Ports USB pour la maintenance des capteurs, Trust Level: Low\n",
            "Access Point: Interfaces web pour la gestion des réservoirs, Trust Level: Medium\n",
            "Access Point: Ports réseau ouverts pour la communication entre les capteurs et les contrôleurs, Trust Level: High\n",
            "Access Point: Fichiers de configuration des dispositifs SCADA, Trust Level: High\n"
          ]
        }
      ]
    },
    {
      "cell_type": "markdown",
      "source": [
        "3. Classification des Menaces\n",
        "\n",
        "Classifier les menaces en utilisant la méthodologie STRIDE.\n"
      ],
      "metadata": {
        "id": "OrSoA3QFFFCs"
      }
    },
    {
      "cell_type": "code",
      "source": [
        "# Liste de menaces - à compléter\n",
        "threats = [\n",
        "    {\"name\": \"Usurpation d'identité des opérateurs\", \"category\": \"Spoofing\"},\n",
        "    {\"name\": \"Modification non autorisée des données des capteurs\", \"category\": \"Tampering\"},\n",
        "    {\"name\": \"Négation des actions effectuées par les opérateurs\", \"category\": \"Repudiation\"},\n",
        "    {\"name\": \"Divulgation non autorisée des données de pression d'eau\", \"category\": \"Information Disclosure\"},\n",
        "    {\"name\": \"Interruption des communications entre les capteurs et les contrôleurs\", \"category\": \"Denial of Service\"},\n",
        "    {\"name\": \"Élévation des privilèges non autorisée des utilisateurs finaux\", \"category\": \"Elevation of Privilege\"}\n",
        "]\n",
        "\n",
        "# Fonction pour classifier les menaces\n",
        "def classify_threats(threats):\n",
        "    for threat in threats:\n",
        "        print(f\"Threat: {threat['name']}, Category: {threat['category']}\")\n",
        "\n",
        "classify_threats(threats)\n"
      ],
      "metadata": {
        "colab": {
          "base_uri": "https://localhost:8080/"
        },
        "id": "zkmOJ9wEFKRx",
        "outputId": "fff50915-4dca-4e7a-e27b-b771bce59d71"
      },
      "execution_count": 8,
      "outputs": [
        {
          "output_type": "stream",
          "name": "stdout",
          "text": [
            "Threat: Usurpation d'identité des opérateurs, Category: Spoofing\n",
            "Threat: Modification non autorisée des données des capteurs, Category: Tampering\n",
            "Threat: Négation des actions effectuées par les opérateurs, Category: Repudiation\n",
            "Threat: Divulgation non autorisée des données de pression d'eau, Category: Information Disclosure\n",
            "Threat: Interruption des communications entre les capteurs et les contrôleurs, Category: Denial of Service\n",
            "Threat: Élévation des privilèges non autorisée des utilisateurs finaux, Category: Elevation of Privilege\n"
          ]
        }
      ]
    },
    {
      "cell_type": "markdown",
      "source": [
        "4. Évaluation des Menaces\n",
        "\n",
        "Evaluer les menaces en utilisant le modèle DREAD."
      ],
      "metadata": {
        "id": "kFC6lhtaFYGo"
      }
    },
    {
      "cell_type": "code",
      "source": [
        "# Liste de menaces avec évaluation DREAD - à compléter\n",
        "threats_dread = [\n",
        "    {\"name\": \"Usurpation d'identité des opérateurs\", \"damage\": 3, \"reproducibility\": 2, \"exploitability\": 2, \"affected_users\": 3, \"discoverability\": 1},\n",
        "    {\"name\": \"Modification non autorisée des données des capteurs\", \"damage\": 2, \"reproducibility\": 3, \"exploitability\": 3, \"affected_users\": 3, \"discoverability\": 2},\n",
        "    {\"name\": \"Négation des actions effectuées par les opérateurs\", \"damage\": 3, \"reproducibility\": 2, \"exploitability\": 2, \"affected_users\": 3, \"discoverability\": 2},\n",
        "    {\"name\": \"Divulgation non autorisée des données de pression d'eau\", \"damage\": 3, \"reproducibility\": 3, \"exploitability\": 2, \"affected_users\": 2, \"discoverability\": 1},\n",
        "    {\"name\": \"Interruption des communications entre les capteurs et les contrôleurs\", \"damage\": 3, \"reproducibility\": 2, \"exploitability\": 2, \"affected_users\": 3, \"discoverability\": 3},\n",
        "    {\"name\": \"Élévation des privilèges non autorisée des utilisateurs finaux\", \"damage\": 1, \"reproducibility\": 2, \"exploitability\": 2, \"affected_users\": 2, \"discoverability\": 2}\n",
        "]\n",
        "\n",
        "# Fonction pour évaluer les menaces en utilisant DREAD\n",
        "def evaluate_threats_dread(threats):\n",
        "    for threat in threats:\n",
        "        total = threat['damage'] + threat['reproducibility'] + threat['exploitability'] + threat['affected_users'] + threat['discoverability']\n",
        "        rating = \"High\" if total >= 12 else \"Medium\" if total >= 8 else \"Low\"\n",
        "        print(f\"Threat: {threat['name']}, Total: {total}, Rating: {rating}\")\n",
        "\n",
        "evaluate_threats_dread(threats_dread)\n"
      ],
      "metadata": {
        "colab": {
          "base_uri": "https://localhost:8080/"
        },
        "id": "B8BU2D7FFeAc",
        "outputId": "8ef33711-71c3-455c-dd89-192b1dc3628d"
      },
      "execution_count": 9,
      "outputs": [
        {
          "output_type": "stream",
          "name": "stdout",
          "text": [
            "Threat: Usurpation d'identité des opérateurs, Total: 11, Rating: Medium\n",
            "Threat: Modification non autorisée des données des capteurs, Total: 13, Rating: High\n",
            "Threat: Négation des actions effectuées par les opérateurs, Total: 12, Rating: High\n",
            "Threat: Divulgation non autorisée des données de pression d'eau, Total: 11, Rating: Medium\n",
            "Threat: Interruption des communications entre les capteurs et les contrôleurs, Total: 13, Rating: High\n",
            "Threat: Élévation des privilèges non autorisée des utilisateurs finaux, Total: 9, Rating: Medium\n"
          ]
        }
      ]
    },
    {
      "cell_type": "markdown",
      "source": [
        "5. Proposition de contre-mesures\n",
        "\n",
        "Proposer des contre-mesures en fonction des évaluations des menaces."
      ],
      "metadata": {
        "id": "0Bz5M5EhF3HZ"
      }
    },
    {
      "cell_type": "code",
      "source": [
        "# Liste de contre-mesures - à compléter\n",
        "countermeasures = [\n",
        "    {\"threat\": \"Usurpation d'identité des opérateurs\", \"countermeasure\": \"Mettre en place des mécanismes d'authentification robustes\"},\n",
        "    {\"threat\": \"Modification non autorisée des données des capteurs\", \"countermeasure\": \"Utiliser des techniques de durcissement des applications et des dispositifs\"},\n",
        "    {\"threat\": \"Négation des actions effectuées par les opérateurs\", \"countermeasure\": \"Mettre en place des journaux d'audit et des mécanismes de non-répudiation\"},\n",
        "    {\"threat\": \"Divulgation non autorisée des données de pression d'eau\", \"countermeasure\": \"Utiliser des techniques de chiffrement et de ségrégation des données\"},\n",
        "    {\"threat\": \"Interruption des communications entre les capteurs et les contrôleurs\", \"countermeasure\": \"Mettre en place des mécanismes de redondance et de gestion des ressources\"},\n",
        "    {\"threat\": \"Élévation des privilèges non autorisée des utilisateurs finaux\", \"countermeasure\": \"Mettre en place des contrôles d'accès stricts et des mécanismes de surveillance\"}\n",
        "]\n",
        "\n",
        "# Fonction pour proposer des contre-mesures\n",
        "def propose_countermeasures(countermeasures):\n",
        "    for countermeasure in countermeasures:\n",
        "        print(f\"Threat: {countermeasure['threat']}, Countermeasure: {countermeasure['countermeasure']}\")\n",
        "\n",
        "propose_countermeasures(countermeasures)\n"
      ],
      "metadata": {
        "colab": {
          "base_uri": "https://localhost:8080/"
        },
        "id": "DzGDsOeEF25i",
        "outputId": "38f79e0a-640f-463b-cfb3-cd57584d65d9"
      },
      "execution_count": 10,
      "outputs": [
        {
          "output_type": "stream",
          "name": "stdout",
          "text": [
            "Threat: Usurpation d'identité des opérateurs, Countermeasure: Mettre en place des mécanismes d'authentification robustes\n",
            "Threat: Modification non autorisée des données des capteurs, Countermeasure: Utiliser des techniques de durcissement des applications et des dispositifs\n",
            "Threat: Négation des actions effectuées par les opérateurs, Countermeasure: Mettre en place des journaux d'audit et des mécanismes de non-répudiation\n",
            "Threat: Divulgation non autorisée des données de pression d'eau, Countermeasure: Utiliser des techniques de chiffrement et de ségrégation des données\n",
            "Threat: Interruption des communications entre les capteurs et les contrôleurs, Countermeasure: Mettre en place des mécanismes de redondance et de gestion des ressources\n",
            "Threat: Élévation des privilèges non autorisée des utilisateurs finaux, Countermeasure: Mettre en place des contrôles d'accès stricts et des mécanismes de surveillance\n"
          ]
        }
      ]
    }
  ]
}