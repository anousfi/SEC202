{
  "nbformat": 4,
  "nbformat_minor": 0,
  "metadata": {
    "colab": {
      "provenance": [],
      "authorship_tag": "ABX9TyNMT29/RZsp8XSLEgb6aWb/",
      "include_colab_link": true
    },
    "kernelspec": {
      "name": "python3",
      "display_name": "Python 3"
    },
    "language_info": {
      "name": "python"
    }
  },
  "cells": [
    {
      "cell_type": "markdown",
      "metadata": {
        "id": "view-in-github",
        "colab_type": "text"
      },
      "source": [
        "<a href=\"https://colab.research.google.com/github/ent-r/SEC202/blob/master/Threat_Modeling_Projet.ipynb\" target=\"_parent\"><img src=\"https://colab.research.google.com/assets/colab-badge.svg\" alt=\"Open In Colab\"/></a>"
      ]
    },
    {
      "cell_type": "markdown",
      "source": [
        "L'objectif du document est d'analyser les menaces pesant sur les systèmes de gestion des réseaux d'eau (Water Grid Systems, WGS) en utilisant une **modélisation des menaces** pour identifier, classer et évaluer les risques liés à ces systèmes critiques, tout en proposant des mesures d'atténuation adaptées. Il met l'accent sur les risques croissants de cyberattaques ciblant les infrastructures critiques de l'eau, dues notamment à l'intégration de technologies opérationnelles (OT) et informatiques (IT).\n",
        "\n",
        "Le document applique les **méthodologies STRIDE et DREAD** pour évaluer les menaces spécifiques au WGS, et propose des recommandations pour renforcer la sécurité et minimiser l'impact des attaques, telles que le sabotage, le déni de service ou la falsification de données."
      ],
      "metadata": {
        "id": "qaMP5k72N_tV"
      }
    },
    {
      "cell_type": "markdown",
      "source": [
        "Le document décrit **une méthodologie de modélisation des menaces appliquée aux systèmes d'objets connectés** (IoT), en particulier un système de gestion de l'eau (WGS). L'objectif principal est **d'identifier et de gérer les risques de sécurité dans l'architecture d'un système IoT**.\n",
        "\n",
        "Les étapes clés de la méthodologie exposée sont:\n",
        "\n",
        "* Identification des actifs critiques du système : les composants matériels, logiciels et les utilisateurs qui pourraient être ciblés par des attaques.\n",
        "\n",
        "* Identification des points d'accès : les interfaces ou portes d'entrée potentielles pour les attaquants, comme les ports matériels ou les interfaces utilisateur.\n",
        "\n",
        "* Classification des menaces : utilisation de la méthode STRIDE pour catégoriser les menaces selon six types principaux (usurpation, altération, répudiation, divulgation d'informations, déni de service, et élévation de privilèges).\n",
        "\n",
        "* Évaluation des menaces : application du modèle DREAD pour prioriser les risques en fonction de critères tels que les dommages potentiels, la facilité d'exploitation et l'impact.\n",
        "\n",
        "* Proposition de contre-mesures : conception de solutions pour atténuer les menaces identifiées, en donnant la priorité aux risques les plus critiques.\n",
        "\n",
        "Le document illustre ces concepts à travers un exemple pratique sur un système de gestion de l'eau, mettant en évidence la structure en couches du système, les zones de confiance et les vulnérabilités potentielles. **Le but final est de fournir des stratégies de sécurité proactives** pour protéger les systèmes IoT contre les cyberattaques et garantir leur fonctionnement sécurisé et fiable."
      ],
      "metadata": {
        "id": "8xUKi0SGOPA0"
      }
    },
    {
      "cell_type": "markdown",
      "source": [
        "Programme Python interactif qui guide l'utilisateur à travers une méthodologie de modélisation des menaces appliquée aux systèmes d'objets connectés. Il interroge l'utilisateur à chaque étape, enregistre les réponses dans un fichier, puis génère un document final contenant toutes les informations collectées.\n",
        "\n",
        "### Code Python\n"
      ],
      "metadata": {
        "id": "xchyA9fiPkC4"
      }
    },
    {
      "cell_type": "code",
      "source": [
        "import json\n",
        "import os\n",
        "\n",
        "def ask_question(prompt):\n",
        "    \"\"\"Fonction pour interroger l'utilisateur avec une question.\"\"\"\n",
        "    response = input(f\"{prompt}\\n> \")\n",
        "    return response\n",
        "\n",
        "def save_progress(data, filename=\"progress.json\"):\n",
        "    \"\"\"Enregistre les données dans un fichier JSON.\"\"\"\n",
        "    with open(filename, 'w', encoding='utf-8') as f:\n",
        "        json.dump(data, f, ensure_ascii=False, indent=4)\n",
        "\n",
        "def generate_final_doc(data, output_file=\"final_document.txt\"):\n",
        "    \"\"\"Génère un document final à partir des données collectées.\"\"\"\n",
        "    with open(output_file, 'w', encoding='utf-8') as f:\n",
        "        f.write(\"Méthodologie de Modélisation des Menaces pour les Systèmes d'Objets Connectés\\n\\n\")\n",
        "\n",
        "        f.write(\"1. Identification des actifs critiques :\\n\")\n",
        "        f.write(data.get(\"assets\", \"Non renseigné\") + \"\\n\\n\")\n",
        "\n",
        "        f.write(\"2. Identification des points d'accès :\\n\")\n",
        "        f.write(data.get(\"access_points\", \"Non renseigné\") + \"\\n\\n\")\n",
        "\n",
        "        f.write(\"3. Classification des menaces (STRIDE) :\\n\")\n",
        "        f.write(data.get(\"stride\", \"Non renseigné\") + \"\\n\\n\")\n",
        "\n",
        "        f.write(\"4. Évaluation des menaces (DREAD) :\\n\")\n",
        "        f.write(data.get(\"dread\", \"Non renseigné\") + \"\\n\\n\")\n",
        "\n",
        "        f.write(\"5. Proposition de contre-mesures :\\n\")\n",
        "        f.write(data.get(\"countermeasures\", \"Non renseigné\") + \"\\n\\n\")\n",
        "\n",
        "    print(f\"Document final généré : {output_file}\")\n",
        "\n",
        "def main():\n",
        "    # Vérifie si un fichier de progression existe déjà\n",
        "    progress_file = \"progress.json\"\n",
        "    data = {}\n",
        "    if os.path.exists(progress_file):\n",
        "        with open(progress_file, 'r', encoding='utf-8') as f:\n",
        "            data = json.load(f)\n",
        "\n",
        "    # Étape 1 : Identification des actifs critiques\n",
        "    if \"assets\" not in data:\n",
        "        data[\"assets\"] = ask_question(\"1. Identifier les actifs critiques (composants matériels, logiciels, utilisateurs, etc.) :\")\n",
        "        save_progress(data)\n",
        "\n",
        "    # Étape 2 : Identification des points d'accès\n",
        "    if \"access_points\" not in data:\n",
        "        data[\"access_points\"] = ask_question(\"2. Identifier les points d'accès potentiels (ports matériels, interfaces utilisateur, etc.) :\")\n",
        "        save_progress(data)\n",
        "\n",
        "    # Étape 3 : Classification des menaces (STRIDE)\n",
        "    if \"stride\" not in data:\n",
        "        data[\"stride\"] = ask_question(\"3. Catégoriser les menaces selon STRIDE (usurpation, altération, répudiation, etc.) :\")\n",
        "        save_progress(data)\n",
        "\n",
        "    # Étape 4 : Évaluation des menaces (DREAD)\n",
        "    if \"dread\" not in data:\n",
        "        data[\"dread\"] = ask_question(\"4. Évaluer les menaces en utilisant DREAD (dommages potentiels, exploitabilité, impact, etc.) :\")\n",
        "        save_progress(data)\n",
        "\n",
        "    # Étape 5 : Proposition de contre-mesures\n",
        "    if \"countermeasures\" not in data:\n",
        "        data[\"countermeasures\"] = ask_question(\"5. Proposer des contre-mesures pour atténuer les menaces les plus critiques :\")\n",
        "        save_progress(data)\n",
        "\n",
        "    # Génération du document final\n",
        "    generate_final_doc(data)\n",
        "\n",
        "if __name__ == \"__main__\":\n",
        "    main()"
      ],
      "metadata": {
        "colab": {
          "base_uri": "https://localhost:8080/",
          "height": 322
        },
        "collapsed": true,
        "id": "dQKEVwG7P4WY",
        "outputId": "aca02422-f382-4267-8c47-62f45d63f704"
      },
      "execution_count": null,
      "outputs": [
        {
          "output_type": "error",
          "ename": "KeyboardInterrupt",
          "evalue": "Interrupted by user",
          "traceback": [
            "\u001b[0;31m---------------------------------------------------------------------------\u001b[0m",
            "\u001b[0;31mKeyboardInterrupt\u001b[0m                         Traceback (most recent call last)",
            "\u001b[0;32m<ipython-input-1-c3412eec8948>\u001b[0m in \u001b[0;36m<cell line: 72>\u001b[0;34m()\u001b[0m\n\u001b[1;32m     71\u001b[0m \u001b[0;34m\u001b[0m\u001b[0m\n\u001b[1;32m     72\u001b[0m \u001b[0;32mif\u001b[0m \u001b[0m__name__\u001b[0m \u001b[0;34m==\u001b[0m \u001b[0;34m\"__main__\"\u001b[0m\u001b[0;34m:\u001b[0m\u001b[0;34m\u001b[0m\u001b[0;34m\u001b[0m\u001b[0m\n\u001b[0;32m---> 73\u001b[0;31m     \u001b[0mmain\u001b[0m\u001b[0;34m(\u001b[0m\u001b[0;34m)\u001b[0m\u001b[0;34m\u001b[0m\u001b[0;34m\u001b[0m\u001b[0m\n\u001b[0m",
            "\u001b[0;32m<ipython-input-1-c3412eec8948>\u001b[0m in \u001b[0;36mmain\u001b[0;34m()\u001b[0m\n\u001b[1;32m     44\u001b[0m     \u001b[0;31m# Étape 1 : Identification des actifs critiques\u001b[0m\u001b[0;34m\u001b[0m\u001b[0;34m\u001b[0m\u001b[0m\n\u001b[1;32m     45\u001b[0m     \u001b[0;32mif\u001b[0m \u001b[0;34m\"assets\"\u001b[0m \u001b[0;32mnot\u001b[0m \u001b[0;32min\u001b[0m \u001b[0mdata\u001b[0m\u001b[0;34m:\u001b[0m\u001b[0;34m\u001b[0m\u001b[0;34m\u001b[0m\u001b[0m\n\u001b[0;32m---> 46\u001b[0;31m         \u001b[0mdata\u001b[0m\u001b[0;34m[\u001b[0m\u001b[0;34m\"assets\"\u001b[0m\u001b[0;34m]\u001b[0m \u001b[0;34m=\u001b[0m \u001b[0mask_question\u001b[0m\u001b[0;34m(\u001b[0m\u001b[0;34m\"1. Identifiez les actifs critiques (composants matériels, logiciels, utilisateurs, etc.) :\"\u001b[0m\u001b[0;34m)\u001b[0m\u001b[0;34m\u001b[0m\u001b[0;34m\u001b[0m\u001b[0m\n\u001b[0m\u001b[1;32m     47\u001b[0m         \u001b[0msave_progress\u001b[0m\u001b[0;34m(\u001b[0m\u001b[0mdata\u001b[0m\u001b[0;34m)\u001b[0m\u001b[0;34m\u001b[0m\u001b[0;34m\u001b[0m\u001b[0m\n\u001b[1;32m     48\u001b[0m \u001b[0;34m\u001b[0m\u001b[0m\n",
            "\u001b[0;32m<ipython-input-1-c3412eec8948>\u001b[0m in \u001b[0;36mask_question\u001b[0;34m(prompt)\u001b[0m\n\u001b[1;32m      4\u001b[0m \u001b[0;32mdef\u001b[0m \u001b[0mask_question\u001b[0m\u001b[0;34m(\u001b[0m\u001b[0mprompt\u001b[0m\u001b[0;34m)\u001b[0m\u001b[0;34m:\u001b[0m\u001b[0;34m\u001b[0m\u001b[0;34m\u001b[0m\u001b[0m\n\u001b[1;32m      5\u001b[0m     \u001b[0;34m\"\"\"Fonction pour interroger l'utilisateur avec une question.\"\"\"\u001b[0m\u001b[0;34m\u001b[0m\u001b[0;34m\u001b[0m\u001b[0m\n\u001b[0;32m----> 6\u001b[0;31m     \u001b[0mresponse\u001b[0m \u001b[0;34m=\u001b[0m \u001b[0minput\u001b[0m\u001b[0;34m(\u001b[0m\u001b[0;34mf\"{prompt}\\n> \"\u001b[0m\u001b[0;34m)\u001b[0m\u001b[0;34m\u001b[0m\u001b[0;34m\u001b[0m\u001b[0m\n\u001b[0m\u001b[1;32m      7\u001b[0m     \u001b[0;32mreturn\u001b[0m \u001b[0mresponse\u001b[0m\u001b[0;34m\u001b[0m\u001b[0;34m\u001b[0m\u001b[0m\n\u001b[1;32m      8\u001b[0m \u001b[0;34m\u001b[0m\u001b[0m\n",
            "\u001b[0;32m/usr/local/lib/python3.10/dist-packages/ipykernel/kernelbase.py\u001b[0m in \u001b[0;36mraw_input\u001b[0;34m(self, prompt)\u001b[0m\n\u001b[1;32m    849\u001b[0m                 \u001b[0;34m\"raw_input was called, but this frontend does not support input requests.\"\u001b[0m\u001b[0;34m\u001b[0m\u001b[0;34m\u001b[0m\u001b[0m\n\u001b[1;32m    850\u001b[0m             )\n\u001b[0;32m--> 851\u001b[0;31m         return self._input_request(str(prompt),\n\u001b[0m\u001b[1;32m    852\u001b[0m             \u001b[0mself\u001b[0m\u001b[0;34m.\u001b[0m\u001b[0m_parent_ident\u001b[0m\u001b[0;34m,\u001b[0m\u001b[0;34m\u001b[0m\u001b[0;34m\u001b[0m\u001b[0m\n\u001b[1;32m    853\u001b[0m             \u001b[0mself\u001b[0m\u001b[0;34m.\u001b[0m\u001b[0m_parent_header\u001b[0m\u001b[0;34m,\u001b[0m\u001b[0;34m\u001b[0m\u001b[0;34m\u001b[0m\u001b[0m\n",
            "\u001b[0;32m/usr/local/lib/python3.10/dist-packages/ipykernel/kernelbase.py\u001b[0m in \u001b[0;36m_input_request\u001b[0;34m(self, prompt, ident, parent, password)\u001b[0m\n\u001b[1;32m    893\u001b[0m             \u001b[0;32mexcept\u001b[0m \u001b[0mKeyboardInterrupt\u001b[0m\u001b[0;34m:\u001b[0m\u001b[0;34m\u001b[0m\u001b[0;34m\u001b[0m\u001b[0m\n\u001b[1;32m    894\u001b[0m                 \u001b[0;31m# re-raise KeyboardInterrupt, to truncate traceback\u001b[0m\u001b[0;34m\u001b[0m\u001b[0;34m\u001b[0m\u001b[0m\n\u001b[0;32m--> 895\u001b[0;31m                 \u001b[0;32mraise\u001b[0m \u001b[0mKeyboardInterrupt\u001b[0m\u001b[0;34m(\u001b[0m\u001b[0;34m\"Interrupted by user\"\u001b[0m\u001b[0;34m)\u001b[0m \u001b[0;32mfrom\u001b[0m \u001b[0;32mNone\u001b[0m\u001b[0;34m\u001b[0m\u001b[0;34m\u001b[0m\u001b[0m\n\u001b[0m\u001b[1;32m    896\u001b[0m             \u001b[0;32mexcept\u001b[0m \u001b[0mException\u001b[0m \u001b[0;32mas\u001b[0m \u001b[0me\u001b[0m\u001b[0;34m:\u001b[0m\u001b[0;34m\u001b[0m\u001b[0;34m\u001b[0m\u001b[0m\n\u001b[1;32m    897\u001b[0m                 \u001b[0mself\u001b[0m\u001b[0;34m.\u001b[0m\u001b[0mlog\u001b[0m\u001b[0;34m.\u001b[0m\u001b[0mwarning\u001b[0m\u001b[0;34m(\u001b[0m\u001b[0;34m\"Invalid Message:\"\u001b[0m\u001b[0;34m,\u001b[0m \u001b[0mexc_info\u001b[0m\u001b[0;34m=\u001b[0m\u001b[0;32mTrue\u001b[0m\u001b[0;34m)\u001b[0m\u001b[0;34m\u001b[0m\u001b[0;34m\u001b[0m\u001b[0m\n",
            "\u001b[0;31mKeyboardInterrupt\u001b[0m: Interrupted by user"
          ]
        }
      ]
    },
    {
      "cell_type": "markdown",
      "source": [
        "### Fonctionnement\n",
        "1. **Étapes interactives** : À chaque étape, le programme pose une question pertinente et enregistre la réponse.\n",
        "2. **Sauvegarde incrémentale** : Si l'utilisateur interrompt le programme, il peut reprendre là où il s'était arrêté grâce au fichier `progress.json`.\n",
        "3. **Génération du document final** : Une fois toutes les étapes terminées, un fichier texte est créé contenant toutes les réponses structurées.\n",
        "\n",
        "### Fichiers générés\n",
        "- **progress.json** : Contient les réponses sauvegardées pendant l'interaction.\n",
        "- **final_document.txt** : Document final prêt à être utilisé.\n",
        "\n",
        "L'approche garantit une expérience interactive tout en préservant les données de progression."
      ],
      "metadata": {
        "id": "9DvGjwb1P_o5"
      }
    },
    {
      "cell_type": "markdown",
      "source": [
        "Les étapes décrites dans le document (comme l'utilisation de **STRIDE-per-element** et la création de **diagrammes de flux de données**) pourraient être traduites en outils ou scripts automatisés pour faciliter la mise en œuvre de la méthodologie. Par ailleurs, des schémas explicatifs sont fournis pour illustrer les processus.\n",
        "\n",
        "### Implémentation pratique\n",
        "\n",
        "*\tTraduire les étapes en outils spécifiques (par exemple, des scripts pour analyser les DFD).\n",
        "*\tAutomatiser les procédures décrites (comme l'élaboration de taxonomies d'attaques ou l'application des catégories STRIDE).\n",
        "*\tS'appuyer sur des outils de modélisation, **NetworkX** par exemple, et les adapter aux spécificités des CPS.\n"
      ],
      "metadata": {
        "id": "FdKVAf6zQKDt"
      }
    },
    {
      "cell_type": "markdown",
      "source": [
        "Le **cas d’étude** sert à valider la méthodologie proposée et peut inspirer une implémentation réelle.\n",
        "\n",
        "## Eléments technologiques clés\n",
        "\n",
        "Le document propose une **méthodologie** technologique adaptable et modulaire pour les **systèmes cyber-physiques**, qui pourrait être intégrée dans des outils de modélisation assistée par ordinateur ou des solutions d'analyse des menaces.\n",
        "\n",
        "### Modélisation des menaces basée sur STRIDE\n",
        "\n",
        "*\tApproche STRIDE-per-element pour analyser chaque composant des diagrammes de flux de données (DFD).\n",
        "*\tSTRIDE est utilisé pour identifier les catégories de menaces : Spoofing, Tampering, Repudiation, Information Disclosure, Denial of Service, Elevation of Privilege.\n",
        "*\tOptimisation proposée : ignorer les flux internes aux zones de confiance pour réduire le nombre de menaces à évaluer.\n",
        "\n",
        "### Diagrammes de flux de données (DFD)\n",
        "\n",
        "*\tIdentification des flux de données, des processus, des entités, et des magasins de données dans un système cyber-physique (CPS).\n",
        "*\tInclusion des composants physiques et des flux analogiques pour mieux refléter les interactions dans les CPS.\n",
        "\n",
        "### Taxonomie des attaques\n",
        "\n",
        "*\tCréation d’une taxonomie initiale des attaques à partir d’une revue de la littérature.\n",
        "*\tActualisation dynamique de la taxonomie basée sur les nouvelles menaces identifiées.\n",
        "\n",
        "### Gestion des frontières de confiance (Trust Boundaries)\n",
        "\n",
        "*\tDéfinition des zones de confiance et documentation des hypothèses de sécurité.\n",
        "*\tUtilisation pour guider l'analyse des menaces à travers les frontières de confiance.\n",
        "\n",
        "### Priorisation des menaces et exigences de sécurité\n",
        "\n",
        "*\tÉvaluation des conséquences et des pertes potentielles associées aux menaces identifiées.\n",
        "*\tClassement des menaces par priorité pour orienter les choix des contre-mesures et des exigences de sécurité.\n",
        "\n",
        "### Procédure d’élaboration des menaces (Threat Elicitation)\n",
        "\n",
        "*\tProcessus systématique intégrant :\n",
        "1.\tSélection des éléments DFD.\n",
        "2.\tIdentification des actifs d’information associés.\n",
        "3.\tApplication des catégories STRIDE.\n",
        "4.\tUtilisation de la taxonomie des attaques pour associer des types d'attaques spécifiques.\n",
        "\n",
        "*\tPossibilité d’automatisation pour générer des modèles de menaces par défaut.\n",
        "\n",
        "### Outils collaboratifs et pluridisciplinaires\n",
        "\n",
        "*\tImplication des experts en cybersécurité, des architectes systèmes, et des propriétaires du système dans toutes les étapes clés.\n",
        "\n",
        "### Applications spécifiques aux CPS\n",
        "\n",
        "*\tAdaptations pour les systèmes complexes comme les microgrid, avec des considérations spécifiques pour :\n",
        "1.\tLes informations en temps réel vs non temps réel.\n",
        "2.\tL'intégration de données externes (par ex., prévisions météorologiques ou prix de l'énergie).\n",
        "\n"
      ],
      "metadata": {
        "id": "trEJWQ-kRMsr"
      }
    },
    {
      "cell_type": "markdown",
      "source": [
        "## Implémentation des Concepts du Document\n",
        "\n",
        "Implémenter les concepts décrits dans le document.\n",
        "\n",
        "**Identification des Actifs**\n",
        "\n",
        "Identifier les actifs critiques du système. Cela peut inclure des composants matériels, des logiciels, des réseaux, des capteurs, des contrôleurs, etc.\n",
        "\n",
        "**Identification des Points d'Accès**\n",
        "\n",
        "Identifier les points d'accès au système, tels que les ports matériels, les interfaces utilisateur, les sockets ouverts, et les fichiers de configuration.\n",
        "\n",
        "**Classification des Menaces**\n",
        "\n",
        "Utiliser la méthodologie STRIDE pour classer les menaces potentielles. STRIDE couvre les catégories suivantes :\n",
        "\n",
        "* spoofing (Usurpation d'identité)\n",
        "* tampering (Altération)\n",
        "* repudiation (Répudiation)\n",
        "* information Disclosure (Divulgation d'informations)\n",
        "* denial of Service (Déni de service)\n",
        "* elevation of Privilege (Élévation des privilèges)\n",
        "\n",
        "**Évaluation des Risques**\n",
        "\n",
        "Utiliser le modèle DREAD pour évaluer les risques associés à chaque menace. DREAD couvre les aspects suivants :\n",
        "\n",
        "* damage (Dommages)\n",
        "* reproducibility (Reproductibilité)\n",
        "* exploitability (Exploitabilité)\n",
        "* affected Users (Utilisateurs affectés)\n",
        "* discoverability (Détectabilité)\n",
        "\n",
        "**Proposition de Contre-Mesures**\n",
        "\n",
        "Développer des contre-mesures pour atténuer les risques identifiés. Cela peut inclure des mesures de sécurité telles que l'authentification, le durcissement des applications, la journalisation, la ségrégation, le chiffrement, et la redondance.\n"
      ],
      "metadata": {
        "id": "gSlmi4bTLfyp"
      }
    },
    {
      "cell_type": "code",
      "source": [],
      "metadata": {
        "id": "H9qfJ7f_TUca"
      },
      "execution_count": null,
      "outputs": []
    },
    {
      "cell_type": "markdown",
      "source": [
        "\n",
        "## Méthodologie\n",
        "\n",
        "La méthodologie présentée dans l'article comprend neuf étapes clés pour modéliser les menaces sur un système donné, comme les dispositifs IoT ou, dans ce cas, un système de gestion d'eau (WGS).\n",
        "\n",
        "###### Les étapes et leur application détaillée au cas concret du WGS\n",
        "\n",
        "#### Identification des actifs\n",
        "\n",
        "Cette étape consiste à identifier les éléments de valeur dans le système susceptibles d'être attaqués. Dans le cas du WGS, ces actifs incluent des composants matériels et logiciels (capteurs, contrôleurs logiques programmables, interfaces homme-machine, etc.), les réseaux, les sources d'énergie, et les différents utilisateurs interagissant avec le système. Chaque actif est analysé pour comprendre son rôle et sa vulnérabilité potentielle.\n",
        "\n",
        "#### Identification des points d'accès\n",
        "\n",
        "On identifie les interfaces susceptibles d’être utilisées par des attaquants pour obtenir un accès non autorisé aux actifs. Pour le WGS, ces points incluent les ports matériels, les interfaces utilisateur, les fichiers de configuration, et les connexions réseau. La définition de ces points d'accès permet aussi d'établir des frontières de confiance dans le système.\n",
        "\n",
        "#### Classification des menaces\n",
        "\n",
        "Les menaces sont classées en utilisant la méthodologie STRIDE, qui couvre le spoofing, le tampering, la repudiation, la divulgation d'informations, le déni de service, et l'élévation de privilèges. Pour le WGS, **154 menaces** ont été identifiées, réparties entre ces catégories. Par exemple, une menace de déni de service pourrait viser à rendre des capteurs inaccessibles.\n",
        "\n",
        "#### Évaluation des menaces identifiées\n",
        "\n",
        "Les menaces sont évaluées à l'aide du modèle DREAD, qui calcule un score basé sur les dommages potentiels, la reproductibilité, la facilité d'exploitation, l'impact sur les utilisateurs, et la détectabilité. Ces scores sont ensuite utilisés pour hiérarchiser les menaces selon leur gravité. Par exemple, une attaque entraînant un dysfonctionnement des pompes d'eau pourrait avoir un score élevé.\n",
        "\n",
        "#### Proposition de contre-mesures\n",
        "\n",
        "Les contre-mesures sont proposées pour atténuer les menaces identifiées, en priorisant celles avec les scores de risque les plus élevés. Dans le cas du WGS, cela inclut l'authentification stricte, la surveillance des accès physiques, et des pare-feux pour protéger les communications réseau.\n",
        "\n",
        "#### Analyse de risque basée sur l’architecture WGS\n",
        "\n",
        "En analysant l'architecture du WGS, les zones de confiance ont été définies sur plusieurs couches, de la couche physique (pompes, réservoirs) à la couche logicielle (SCADA). Cela a permis de mieux comprendre comment les menaces peuvent se propager entre les couches.\n",
        "\n",
        "#### Modélisation des menaces\n",
        "\n",
        "Un modèle de menace basé sur les flux de données et les zones de confiance a été créé, identifiant les menaces exploitant des vulnérabilités spécifiques du système. Les diagrammes de flux de données ont permis de visualiser les interactions entre les éléments du WGS et de détecter les failles potentielles.\n",
        "\n",
        "#### Évaluation des impacts\n",
        "\n",
        "Les menaces critiques ont été analysées pour évaluer leur impact potentiel, comme la contamination de l'eau ou l'interruption de la distribution. Cela a servi de base pour déterminer les priorités des actions à entreprendre.\n",
        "\n",
        "#### Application des contre-mesures\n",
        "\n",
        "Les contre-mesures ont été intégrées en fonction des risques évalués. Par exemple, pour les menaces de divulgation d'informations, l’utilisation de VPNs et de protocoles sécurisés a été recommandée.\n",
        "\n",
        "\n",
        "# Application concrète de la méthodologie de modélisation des menaces\n",
        "\n",
        "L'application concrète de la méthodologie de modélisation des menaces est décrite dans le contexte d'un système de gestion de l'eau (WGS).\n",
        "\n",
        "### Architecture du système WGS\n",
        "\n",
        "Le système WGS est composé de pompes d'eau, réservoirs, tuyaux et vannes, avec des capteurs de pression, qualité et niveau d'eau, ainsi que des contrôleurs logiques programmables (PLC) et un système SCADA. Ces composants permettent l'automatisation de l'approvisionnement en eau.\n",
        "\n",
        "L'architecture est divisée en plusieurs couches :\n",
        "\n",
        "*\tCouche 0\n",
        "\n",
        "Appareils sur le terrain qui collectent des données analogiques et reçoivent des commandes pour maintenir la stabilité du système. Cette couche nécessite une surveillance physique stricte.\n",
        "\n",
        "*\tCouche 1\n",
        "\n",
        "Dispositifs traitant les informations de la couche 0 et contrôlant le système. Ces dispositifs nécessitent des restrictions d'accès physique.\n",
        "\n",
        "*\tCouche 2\n",
        "\n",
        "Interfaces homme-machine (HMI) qui permettent aux opérateurs d'interagir avec les contrôleurs matériels.\n",
        "\n",
        "*\tCouche 3\n",
        "\n",
        "Communication machine à machine (M2M) entre dispositifs connectés.\n",
        "\n",
        "*\tCouche 4\n",
        "\n",
        "Infrastructure SCADA pour la collecte et l'analyse de données. Les défaillances ou attaques sur SCADA peuvent perturber gravement le système.\n",
        "\n",
        "*\tCouche 5\n",
        "\n",
        "Séparation physique et logique entre les réseaux opérationnels (OT) et informatiques (IT), avec une solution VPN assurant un flux de données sécurisé.\n",
        "\n",
        "### Modélisation des menaces appliquée au WGS\n",
        "\n",
        "La méthodologie de modélisation des menaces est appliquée pour identifier les vulnérabilités et proposer des contre-mesures.\n",
        "Cette méthodologie permet de renforcer la sécurité du WGS en minimisant les vulnérabilités et en priorisant les actions correctives en fonction des risques identifiés.\n",
        "\n",
        "1.\tIdentification des actifs\n",
        "2.\tIdentification des points d'accès\n",
        "3.\tClassification des menaces\n",
        "4.\tÉvaluation des menaces\n",
        "5.\tContre-mesures proposées"
      ],
      "metadata": {
        "id": "3ybno0SuTV5Z"
      }
    },
    {
      "cell_type": "markdown",
      "source": [
        "# Implémenter un **Threat Modeling** en Python.\n",
        "\n",
        "Bien que le processus de threat modeling soit principalement conceptuel et analytique, nous pouvons utiliser Python, pour automatiser certaines parties du processus, telles que l'analyse des données, la génération de diagrammes, et la gestion des risques.\n",
        "\n",
        "Nous pouvons automatiser et structurer certaines parties du processus de threat modeling. Cela peut inclure la gestion des actifs, l'identification des points d'accès, la classification des menaces, l'évaluation des menaces, et la proposition de contre-mesures. Python peut être un outil puissant pour faciliter et documenter ce processus.\n",
        "\n",
        "### Identification des Actifs et des Menaces\n",
        "\n",
        "#### Identifier les actifs et les menaces dans un système de gestion de l'eau.\n",
        "\n",
        "En suivant les étapes et en utilisant les concepts décrits dans le document, nous pouvons implémenter une approche **systématique** pour identifier, évaluer et atténuer les menaces dans un système de gestion de l'eau ou toute autre infrastructure critique. L'utilisation de méthodologies telles que STRIDE et DREAD aidera à structurer l’analyse des risques et à développer des contre-mesures efficaces.\n",
        "\n",
        "##### Description d'architecture\n",
        "\n",
        "Le texte décrit un système complexe basé sur une architecture de gestion de l'eau organisée en couches, mais il s'agit principalement d'une analyse théorique ou conceptuelle de cette architecture. Chaque couche est expliquée en termes de rôle et de vulnérabilités potentielles.\n",
        "\n",
        "##### Absence d'implémentation directe\n",
        "\n",
        "Les couches et leurs rôles (du capteur physique au SCADA, jusqu'aux VPN) sont décrits, mais aucune mention spécifique n'est faite concernant un code, des logiciels spécifiques ou des matériels qui auraient été développés pour cette architecture.\n",
        "\n",
        "##### Une analyse conceptuelle, un modèle de référence\n",
        "\n",
        "L'accent est mis sur la sécurité et les vulnérabilités de l'architecture WGS, en particulier face aux cyberattaques.\n",
        "\n",
        "\n",
        "\n",
        "1. Identification des actifs\n",
        "\n",
        "Les actifs critiques incluent les capteurs, PLC, composants SCADA et les réseaux connectés. Ces éléments sont les cibles principales des attaques.\n",
        "\n",
        "Lister et évaluer les actifs du système.\n"
      ],
      "metadata": {
        "id": "u9_DmTA93SaI"
      }
    },
    {
      "cell_type": "code",
      "execution_count": null,
      "metadata": {
        "colab": {
          "base_uri": "https://localhost:8080/"
        },
        "id": "btSDvCHY3Lcz",
        "outputId": "88bcfad4-9ee7-4ba0-83ef-88d0cf32501d"
      },
      "outputs": [
        {
          "output_type": "stream",
          "name": "stdout",
          "text": [
            "Asset: Capteur de pression d'eau, Value: High\n",
            "Asset: Réservoir, Value: High\n",
            "Asset: Pompe, Value: Medium\n",
            "Asset: Vanne, Value: Medium\n",
            "Asset: Système de contrôle SCADA, Value: High\n",
            "Asset: Logiciel de gestion des ressources en eau, Value: High\n",
            "Asset: Réseau de communication, Value: High\n",
            "Asset: Opérateur, Value: High\n",
            "Asset: Administrateur, Value: High\n",
            "Asset: Utilisateur final, Value: Medium\n"
          ]
        }
      ],
      "source": [
        "# Liste d'actifs - à compléter\n",
        "assets = [\n",
        "    {\"name\": \"Capteur de pression d'eau\", \"value\": \"High\"},\n",
        "    {\"name\": \"Réservoir\", \"value\": \"High\"},\n",
        "    {\"name\": \"Pompe\", \"value\": \"Medium\"},\n",
        "    {\"name\": \"Vanne\", \"value\": \"Medium\"},\n",
        "    {\"name\": \"Système de contrôle SCADA\", \"value\": \"High\"},\n",
        "    {\"name\": \"Logiciel de gestion des ressources en eau\", \"value\": \"High\"},\n",
        "    {\"name\": \"Réseau de communication\", \"value\": \"High\"},\n",
        "    {\"name\": \"Opérateur\", \"value\": \"High\"},\n",
        "    {\"name\": \"Administrateur\", \"value\": \"High\"},\n",
        "    {\"name\": \"Utilisateur final\", \"value\": \"Medium\"}\n",
        "]\n",
        "\n",
        "# Fonction pour évaluer la valeur des actifs\n",
        "def evaluate_assets(assets):\n",
        "    for asset in assets:\n",
        "        print(f\"Asset: {asset['name']}, Value: {asset['value']}\")\n",
        "\n",
        "evaluate_assets(assets)\n"
      ]
    },
    {
      "cell_type": "markdown",
      "source": [
        "2. Identification des points d'accès\n",
        "\n",
        "Les points d'accès incluent les interfaces matérielles, fichiers de configuration, et interfaces utilisateurs. Par exemple, un réseau peut définir des limites de confiance (**trust boundaries**) pour contrôler les accès.\n",
        "\n",
        "Lister et évaluer les points d'accès du système."
      ],
      "metadata": {
        "id": "66e2mXxsEfJ5"
      }
    },
    {
      "cell_type": "code",
      "source": [
        "# Liste de points d'accès - à compléter\n",
        "access_points = [\n",
        "    {\"name\": \"Ports USB pour la maintenance des capteurs\", \"trust_level\": \"Low\"},\n",
        "    {\"name\": \"Interfaces web pour la gestion des réservoirs\", \"trust_level\": \"Medium\"},\n",
        "    {\"name\": \"Ports réseau ouverts pour la communication entre les capteurs et les contrôleurs\", \"trust_level\": \"High\"},\n",
        "    {\"name\": \"Fichiers de configuration des dispositifs SCADA\", \"trust_level\": \"High\"}\n",
        "]\n",
        "\n",
        "# Fonction pour évaluer les points d'accès\n",
        "def evaluate_access_points(access_points):\n",
        "    for point in access_points:\n",
        "        print(f\"Access Point: {point['name']}, Trust Level: {point['trust_level']}\")\n",
        "\n",
        "evaluate_access_points(access_points)\n"
      ],
      "metadata": {
        "colab": {
          "base_uri": "https://localhost:8080/"
        },
        "id": "qSk3AgeLEVEy",
        "outputId": "928e793c-1304-4035-b432-7830da5f2389"
      },
      "execution_count": null,
      "outputs": [
        {
          "output_type": "stream",
          "name": "stdout",
          "text": [
            "Access Point: Ports USB pour la maintenance des capteurs, Trust Level: Low\n",
            "Access Point: Interfaces web pour la gestion des réservoirs, Trust Level: Medium\n",
            "Access Point: Ports réseau ouverts pour la communication entre les capteurs et les contrôleurs, Trust Level: High\n",
            "Access Point: Fichiers de configuration des dispositifs SCADA, Trust Level: High\n"
          ]
        }
      ]
    },
    {
      "cell_type": "markdown",
      "source": [
        "3. Classification des Menaces\n",
        "\n",
        "Les menaces sont catégorisées à l'aide de la méthodologie STRIDE :\n",
        "\n",
        "*\tSpoofing (usurpation) : 30 menaces\n",
        "*\tTampering (altération) : 15 menaces\n",
        "*\tRepudiation (non-repudiation) : 22 menaces\n",
        "*\tInformation Disclosure (divulgation) : 2 menaces\n",
        "*\tDenial of Service (DoS) : 46 menaces\n",
        "*\tElevation of Privilege : 39 menaces\n",
        "\n",
        "Classifier les menaces en utilisant la méthodologie STRIDE.\n"
      ],
      "metadata": {
        "id": "OrSoA3QFFFCs"
      }
    },
    {
      "cell_type": "code",
      "source": [
        "# Liste de menaces - à compléter\n",
        "threats = [\n",
        "    {\"name\": \"Usurpation d'identité des opérateurs\", \"category\": \"Spoofing\"},\n",
        "    {\"name\": \"Modification non autorisée des données des capteurs\", \"category\": \"Tampering\"},\n",
        "    {\"name\": \"Négation des actions effectuées par les opérateurs\", \"category\": \"Repudiation\"},\n",
        "    {\"name\": \"Divulgation non autorisée des données de pression d'eau\", \"category\": \"Information Disclosure\"},\n",
        "    {\"name\": \"Interruption des communications entre les capteurs et les contrôleurs\", \"category\": \"Denial of Service\"},\n",
        "    {\"name\": \"Élévation des privilèges non autorisée des utilisateurs finaux\", \"category\": \"Elevation of Privilege\"}\n",
        "]\n",
        "\n",
        "# Fonction pour classifier les menaces\n",
        "def classify_threats(threats):\n",
        "    for threat in threats:\n",
        "        print(f\"Threat: {threat['name']}, Category: {threat['category']}\")\n",
        "\n",
        "classify_threats(threats)\n"
      ],
      "metadata": {
        "colab": {
          "base_uri": "https://localhost:8080/"
        },
        "id": "zkmOJ9wEFKRx",
        "outputId": "fff50915-4dca-4e7a-e27b-b771bce59d71"
      },
      "execution_count": null,
      "outputs": [
        {
          "output_type": "stream",
          "name": "stdout",
          "text": [
            "Threat: Usurpation d'identité des opérateurs, Category: Spoofing\n",
            "Threat: Modification non autorisée des données des capteurs, Category: Tampering\n",
            "Threat: Négation des actions effectuées par les opérateurs, Category: Repudiation\n",
            "Threat: Divulgation non autorisée des données de pression d'eau, Category: Information Disclosure\n",
            "Threat: Interruption des communications entre les capteurs et les contrôleurs, Category: Denial of Service\n",
            "Threat: Élévation des privilèges non autorisée des utilisateurs finaux, Category: Elevation of Privilege\n"
          ]
        }
      ]
    },
    {
      "cell_type": "code",
      "source": [
        "import pandas as pd\n",
        "\n",
        "assets_df = pd.DataFrame(assets)\n",
        "threats_df = pd.DataFrame(threats)\n",
        "\n",
        "# Afficher les actifs et les menaces\n",
        "print(\"Actifs :\")\n",
        "print(assets_df)\n",
        "\n",
        "print(\"\\nMenaces :\")\n",
        "print(threats_df)\n",
        "\n",
        "# Identifier les actifs critiques\n",
        "critical_assets = assets_df[assets_df[\"value\"] == \"High\"]\n",
        "print(\"\\nActifs critiques :\")\n",
        "print(critical_assets)\n",
        "\n",
        "# Ajouter une colonne 'risk' pour exemple dans threats_df\n",
        "threats_df[\"risk\"] = [\"High\", \"High\", \"Medium\", \"Medium\", \"High\", \"High\"]\n",
        "\n",
        "# Identifier les menaces à haut risque\n",
        "high_risk_threats = threats_df[threats_df[\"risk\"] == \"High\"]\n",
        "print(\"\\nMenaces à haut risque :\")\n",
        "print(high_risk_threats)\n"
      ],
      "metadata": {
        "colab": {
          "base_uri": "https://localhost:8080/"
        },
        "id": "mV1i0QFeNwAO",
        "outputId": "6623d2ca-eb32-4bb5-9562-5845e028ecb5"
      },
      "execution_count": null,
      "outputs": [
        {
          "output_type": "stream",
          "name": "stdout",
          "text": [
            "Actifs :\n",
            "                                        name   value\n",
            "0                  Capteur de pression d'eau    High\n",
            "1                                  Réservoir    High\n",
            "2                                      Pompe  Medium\n",
            "3                                      Vanne  Medium\n",
            "4                  Système de contrôle SCADA    High\n",
            "5  Logiciel de gestion des ressources en eau    High\n",
            "6                    Réseau de communication    High\n",
            "7                                  Opérateur    High\n",
            "8                             Administrateur    High\n",
            "9                          Utilisateur final  Medium\n",
            "\n",
            "Menaces :\n",
            "                                                name                category\n",
            "0               Usurpation d'identité des opérateurs                Spoofing\n",
            "1  Modification non autorisée des données des cap...               Tampering\n",
            "2  Négation des actions effectuées par les opérat...             Repudiation\n",
            "3  Divulgation non autorisée des données de press...  Information Disclosure\n",
            "4  Interruption des communications entre les capt...       Denial of Service\n",
            "5  Élévation des privilèges non autorisée des uti...  Elevation of Privilege\n",
            "\n",
            "Actifs critiques :\n",
            "                                        name value\n",
            "0                  Capteur de pression d'eau  High\n",
            "1                                  Réservoir  High\n",
            "4                  Système de contrôle SCADA  High\n",
            "5  Logiciel de gestion des ressources en eau  High\n",
            "6                    Réseau de communication  High\n",
            "7                                  Opérateur  High\n",
            "8                             Administrateur  High\n",
            "\n",
            "Menaces à haut risque :\n",
            "                                                name                category  \\\n",
            "0               Usurpation d'identité des opérateurs                Spoofing   \n",
            "1  Modification non autorisée des données des cap...               Tampering   \n",
            "4  Interruption des communications entre les capt...       Denial of Service   \n",
            "5  Élévation des privilèges non autorisée des uti...  Elevation of Privilege   \n",
            "\n",
            "   risk  \n",
            "0  High  \n",
            "1  High  \n",
            "4  High  \n",
            "5  High  \n"
          ]
        }
      ]
    },
    {
      "cell_type": "markdown",
      "source": [
        "4. Évaluation des Menaces\n",
        "\n",
        "Les menaces sont notées selon le modèle DREAD, qui évalue leur impact, reproductibilité, facilité d'exploitation, étendue et gravité.\n",
        "\n",
        "Evaluer les menaces en utilisant le modèle DREAD."
      ],
      "metadata": {
        "id": "kFC6lhtaFYGo"
      }
    },
    {
      "cell_type": "code",
      "source": [
        "# Liste de menaces avec évaluation DREAD - à compléter\n",
        "threats_dread = [\n",
        "    {\"name\": \"Usurpation d'identité des opérateurs\", \"damage\": 3, \"reproducibility\": 2, \"exploitability\": 2, \"affected_users\": 3, \"discoverability\": 1},\n",
        "    {\"name\": \"Modification non autorisée des données des capteurs\", \"damage\": 2, \"reproducibility\": 3, \"exploitability\": 3, \"affected_users\": 3, \"discoverability\": 2},\n",
        "    {\"name\": \"Négation des actions effectuées par les opérateurs\", \"damage\": 3, \"reproducibility\": 2, \"exploitability\": 2, \"affected_users\": 3, \"discoverability\": 2},\n",
        "    {\"name\": \"Divulgation non autorisée des données de pression d'eau\", \"damage\": 3, \"reproducibility\": 3, \"exploitability\": 2, \"affected_users\": 2, \"discoverability\": 1},\n",
        "    {\"name\": \"Interruption des communications entre les capteurs et les contrôleurs\", \"damage\": 3, \"reproducibility\": 2, \"exploitability\": 2, \"affected_users\": 3, \"discoverability\": 3},\n",
        "    {\"name\": \"Élévation des privilèges non autorisée des utilisateurs finaux\", \"damage\": 1, \"reproducibility\": 2, \"exploitability\": 2, \"affected_users\": 2, \"discoverability\": 2}\n",
        "]\n",
        "\n",
        "# Fonction pour évaluer les menaces en utilisant DREAD\n",
        "def evaluate_threats_dread(threats):\n",
        "    for threat in threats:\n",
        "        total = threat['damage'] + threat['reproducibility'] + threat['exploitability'] + threat['affected_users'] + threat['discoverability']\n",
        "        rating = \"High\" if total >= 12 else \"Medium\" if total >= 8 else \"Low\"\n",
        "        print(f\"Threat: {threat['name']}, Total: {total}, Rating: {rating}\")\n",
        "\n",
        "evaluate_threats_dread(threats_dread)\n"
      ],
      "metadata": {
        "colab": {
          "base_uri": "https://localhost:8080/"
        },
        "id": "B8BU2D7FFeAc",
        "outputId": "8ef33711-71c3-455c-dd89-192b1dc3628d"
      },
      "execution_count": null,
      "outputs": [
        {
          "output_type": "stream",
          "name": "stdout",
          "text": [
            "Threat: Usurpation d'identité des opérateurs, Total: 11, Rating: Medium\n",
            "Threat: Modification non autorisée des données des capteurs, Total: 13, Rating: High\n",
            "Threat: Négation des actions effectuées par les opérateurs, Total: 12, Rating: High\n",
            "Threat: Divulgation non autorisée des données de pression d'eau, Total: 11, Rating: Medium\n",
            "Threat: Interruption des communications entre les capteurs et les contrôleurs, Total: 13, Rating: High\n",
            "Threat: Élévation des privilèges non autorisée des utilisateurs finaux, Total: 9, Rating: Medium\n"
          ]
        }
      ]
    },
    {
      "cell_type": "markdown",
      "source": [
        "5. Proposition de contre-mesures\n",
        "\n",
        "Les risques élevés identifiés sont traités en priorité. Par exemple :\n",
        "\n",
        "*\tSurveillance physique pour les couches inférieures.\n",
        "*\tSécurisation des communications SCADA avec des protocoles robustes.\n",
        "*\tMise en place de pare-feu et de segmentation réseau.\n",
        "*\tAuthentification forte pour accéder aux interfaces utilisateur.\n",
        "\n",
        "Proposer des contre-mesures en fonction des évaluations des menaces."
      ],
      "metadata": {
        "id": "0Bz5M5EhF3HZ"
      }
    },
    {
      "cell_type": "code",
      "source": [
        "# Liste de contre-mesures - à compléter\n",
        "countermeasures = [\n",
        "    {\"threat\": \"Usurpation d'identité des opérateurs\", \"countermeasure\": \"Mettre en place des mécanismes d'authentification robustes\"},\n",
        "    {\"threat\": \"Modification non autorisée des données des capteurs\", \"countermeasure\": \"Utiliser des techniques de durcissement des applications et des dispositifs\"},\n",
        "    {\"threat\": \"Négation des actions effectuées par les opérateurs\", \"countermeasure\": \"Mettre en place des journaux d'audit et des mécanismes de non-répudiation\"},\n",
        "    {\"threat\": \"Divulgation non autorisée des données de pression d'eau\", \"countermeasure\": \"Utiliser des techniques de chiffrement et de ségrégation des données\"},\n",
        "    {\"threat\": \"Interruption des communications entre les capteurs et les contrôleurs\", \"countermeasure\": \"Mettre en place des mécanismes de redondance et de gestion des ressources\"},\n",
        "    {\"threat\": \"Élévation des privilèges non autorisée des utilisateurs finaux\", \"countermeasure\": \"Mettre en place des contrôles d'accès stricts et des mécanismes de surveillance\"}\n",
        "]\n",
        "\n",
        "# Fonction pour proposer des contre-mesures\n",
        "def propose_countermeasures(countermeasures):\n",
        "    for countermeasure in countermeasures:\n",
        "        print(f\"Threat: {countermeasure['threat']}, Countermeasure: {countermeasure['countermeasure']}\")\n",
        "\n",
        "propose_countermeasures(countermeasures)\n"
      ],
      "metadata": {
        "colab": {
          "base_uri": "https://localhost:8080/"
        },
        "id": "DzGDsOeEF25i",
        "outputId": "38f79e0a-640f-463b-cfb3-cd57584d65d9"
      },
      "execution_count": null,
      "outputs": [
        {
          "output_type": "stream",
          "name": "stdout",
          "text": [
            "Threat: Usurpation d'identité des opérateurs, Countermeasure: Mettre en place des mécanismes d'authentification robustes\n",
            "Threat: Modification non autorisée des données des capteurs, Countermeasure: Utiliser des techniques de durcissement des applications et des dispositifs\n",
            "Threat: Négation des actions effectuées par les opérateurs, Countermeasure: Mettre en place des journaux d'audit et des mécanismes de non-répudiation\n",
            "Threat: Divulgation non autorisée des données de pression d'eau, Countermeasure: Utiliser des techniques de chiffrement et de ségrégation des données\n",
            "Threat: Interruption des communications entre les capteurs et les contrôleurs, Countermeasure: Mettre en place des mécanismes de redondance et de gestion des ressources\n",
            "Threat: Élévation des privilèges non autorisée des utilisateurs finaux, Countermeasure: Mettre en place des contrôles d'accès stricts et des mécanismes de surveillance\n"
          ]
        }
      ]
    },
    {
      "cell_type": "markdown",
      "source": [
        "# Développer une application basée sur un système de gestion de réseau d'eau (WGS), partir d'un diagramme de flux de données (Figure 5)\n",
        "\n",
        "###### Partir d'un diagramme de flux de données (DFD)\n",
        "\n",
        "Le DFD montre comment les données circulent entre les différentes parties du système. Cela aide à comprendre les interactions essentielles entre capteurs, contrôleurs, interfaces utilisateur, bases de données et autres composants.\n",
        "\n",
        "### Identification des composants clés\n",
        "\n",
        "Chaque élément du DFD (par exemple, capteurs, SCADA, VPN, serveurs) correspond à une fonctionnalité ou une interface que l’application devra intégrer ou exploiter.\n",
        "\n",
        "### Analyse des vulnérabilités\n",
        "\n",
        "En partant du DFD, nous pouvons identifier les points sensibles du système en matière de sécurité et prévoir des mécanismes pour protéger les flux de données (par exemple, cryptage, authentification).\n",
        "\n",
        "### Planification modulaire\n",
        "\n",
        "Le DFD aide à structurer l’application en modules indépendants correspondant aux différentes zones de confiance ou couches du système (comme décrites dans le texte).\n",
        "\n",
        "# Utiliser le DFD pour développer une application\n",
        "\n",
        "Le DFD fournit une vue d'ensemble claire qui permet de structurer l'application en fonction des flux de données critiques et des besoins fonctionnels. C'est un point de départ idéal pour conceptualiser et planifier le développement.\n",
        "\n",
        "### Étudier les flux et les éléments du DFD\n",
        "\n",
        "Analyser les données qui circulent entre les composants (par exemple, les capteurs envoient des données de pression au contrôleur, qui les transmet au SCADA).\n",
        "\n",
        "### Définir les exigences fonctionnelles\n",
        "\n",
        "Lister les fonctionnalités que l’application doit fournir pour gérer les flux.\n",
        "\n",
        "*\tLire les données des capteurs (Layer 0).\n",
        "*\tAfficher les données sur une interface graphique (Layer 2).\n",
        "*\tStocker les données pour analyse (Layer 3 ou 4).\n",
        "*\tMettre en œuvre des alertes ou des réponses automatiques (Layer 1 ou SCADA).\n",
        "\n",
        "### Concevoir l'architecture logicielle\n",
        "\n",
        "*\tSéparer les différents modules de l'application en suivant les couches ou zones décrites (capteurs, contrôleurs, SCADA, etc.).\n",
        "*\tPlanifier les interactions entre ces modules.\n",
        "\n",
        "### Implémenter la communication\n",
        "\n",
        "*\tDévelopper les protocoles ou les API nécessaires pour que les données circulent selon les flux décrits dans le DFD.\n",
        "*\tIntégrer des normes comme Modbus, OPC UA, ou des protocoles sécurisés pour SCADA.\n",
        "\n",
        "### Sécuriser le système\n",
        "\n",
        "Ajouter des mécanismes pour protéger les flux sensibles identifiés dans le DFD :\n",
        "\n",
        "*\tAuthentification et autorisation pour accéder aux couches.\n",
        "*\tChiffrement des données sensibles (VPN pour Layer 5).\n",
        "\n",
        "## Implémentation à partir du DFD\n",
        "\n",
        "Si le DFD montre que les données des capteurs passent par un contrôleur pour arriver à un serveur SCADA, l'application pourrait inclure :\n",
        "\n",
        "1.\tUn module pour collecter les données des capteurs via des interfaces comme UART ou Ethernet.\n",
        "2.\tUn autre pour afficher et gérer ces données via une interface HMI.\n",
        "3.\tUn backend pour stocker les données dans une base sécurisée.\n",
        "\n"
      ],
      "metadata": {
        "id": "K7tUYp5rX37I"
      }
    },
    {
      "cell_type": "markdown",
      "source": [
        "S. K. T, V. K. Jadoun, J. N. S and S. S, \"A Systematic Study on the Intelligent Cyber Security for Smart Microgrid,\" 2024 IEEE International Conference on Distributed Computing, VLSI, Electrical Circuits and Robotics (DISCOVER), Mangalore, India, 2024, pp. 237-242, doi: 10.1109/DISCOVER62353.2024.10750634. keywords: {Threat modeling;Renewable energy sources;Systematics;Microgrids;Very large scale integration;Phasor measurement units;Smart grids;Power systems;Risk management;Robots;Smart Microgrid;Cyber physical System;Cyber Security;Threat Modelling;Data Driven Security Framework},\n",
        "\n",
        "H. M. Khounsari and A. Fazeli, \"Application of Machine Learning Algorithms for Enhanced Smart Grid Control and Management,\" 2024 International Conference on Energy and Electrical Engineering (EEE), Nanchang, China, 2024, pp. 1-7, doi: 10.1109/EEE59956.2024.10709384. keywords: {Renewable energy sources;Technological innovation;Machine learning algorithms;Heuristic algorithms;Prediction algorithms;Smart grids;Power system reliability;Energy management;Resilience;Predictive maintenance;machine-learning;smart grid;energy management;microgrid control;power electronics;fault detection;predictive maintenance},\n",
        "\n",
        "M. Al-Amin, M. A. Khatun and M. Nasir Uddin, \"Development of Cyber Attack Model for Private Network,\" 2022 Second International Conference on Interdisciplinary Cyber Physical Systems (ICPS), Chennai, India, 2022, pp. 216-221, doi: 10.1109/ICPS55917.2022.00046. keywords: {Technological innovation;Computational modeling;Companies;Malware;Servers;Security;Cyberattack;Cyber Attack;Cyber Threat;Network Threat;Honeypot;Firewalls;DMZ;Backdoor;Payload;Python;Network Vulnerabilities;Private Network;LAN},\n",
        "\n",
        "N. Kothari, C. Bhardwaj, S. Mishra, S. K. Satapathy, S. -B. Cho and P. K. Mallick, \"Towards Insider Threat Resilience: A Proposed Mitigation Model,\" 2024 International Conference on Emerging Systems and Intelligent Computing (ESIC), Bhubaneswar, India, 2024, pp. 62-67, doi: 10.1109/ESIC60604.2024.10481615. keywords: {Training;Steganography;Computational modeling;Organizations;Human factors;Security;IP networks;Insider threat detection;User behavior analytics;Anomaly detection;Access controls;Data monitoring;Machine learning for insider threat mitigation},\n",
        "\n",
        "H. Saini, S. Bala, S. J. Ida, K. S. Kumar, S. Swetha and D. P, \"Machine Learning Approach for Mitigating Security Threats in IoT Environment,\" 2023 5th International Conference on Inventive Research in Computing Applications (ICIRCA), Coimbatore, India, 2023, pp. 1398-1405, doi: 10.1109/ICIRCA57980.2023.10220759. keywords: {Training;Support vector machines;Computational modeling;Wireless networks;Intrusion detection;Machine learning;Feature extraction;Machine learning;Internet of things (IoT);Intrusion detection system (IDS) DDoS attacks},\n",
        "\n",
        "M. D. Makwana, V. Thakkar, D. Das and R. Kumar, \"Simulating Cyber-Attack Scenarios by Discovering Petri-Nets from Large-Scale Event Logs,\" 2024 16th International Conference on COMmunication Systems & NETworkS (COMSNETS), Bengaluru, India, 2024, pp. 49-54, doi: 10.1109/COMSNETS59351.2024.10427052. keywords: {Threat modeling;Analytical models;Manuals;Stakeholders;Security;Task analysis;Reachability analysis;Threat modeling;Cyber-security risk;Process mining;Scenario analysis;Petri-Nets},\n",
        "\n",
        "R. Wang, Y. Xu and Y. Wu, \"Python Open-Source Code Traceability Model Based on Graph Neural Networks,\" 2023 IEEE Intl Conf on Dependable, Autonomic and Secure Computing, Intl Conf on Pervasive Intelligence and Computing, Intl Conf on Cloud and Big Data Computing, Intl Conf on Cyber Science and Technology Congress (DASC/PiCom/CBDCom/CyberSciTech), Abu Dhabi, United Arab Emirates, 2023, pp. 0806-0813, doi: 10.1109/DASC/PiCom/CBDCom/Cy59711.2023.10361385. keywords: {Codes;Computational modeling;Supply chains;Syntactics;Big Data;Graph neural networks;Software;Graph neural network;Code similarity calculation;Type Abstract Syntax Tree;Python open-source Code;Code traceability;Software supply chain security},\n",
        "\n",
        "S. Monemi, A. Aparicio and A. Zarour, \"Cyber Attack on Smart Grid Database,\" 2024 IEEE Conference on Technologies for Sustainability (SusTech), Portland, OR, USA, 2024, pp. 164-168, doi: 10.1109/SusTech60925.2024.10553622. keywords: {Industries;Renewable energy sources;Databases;Real-time systems;Phasor measurement units;Smart grids;Power systems;Cyber Attack;SQLite Database;Phasor Mea-surement Unit;Smart Grid;Python;Wireshark;RSCAD;RTDS},\n",
        "\n",
        "Ghosh, S.; Zaman, M.; Plourde, B.; Sampalli, S. A Quantum-Based Signcryption for Supervisory Control and Data Acquisition (SCADA) Networks. Symmetry 2022, 14, 1625. https://doi.org/10.3390/sym14081625\n",
        "\n"
      ],
      "metadata": {
        "id": "RllVbntSZrvN"
      }
    },
    {
      "cell_type": "markdown",
      "source": [
        "# Implémenter une version Flask pour gérer le backend et servir des pages HTML.\n"
      ],
      "metadata": {
        "id": "69EdU4e1yTQ_"
      }
    },
    {
      "cell_type": "code",
      "source": [
        "!pip install Flask"
      ],
      "metadata": {
        "colab": {
          "base_uri": "https://localhost:8080/"
        },
        "id": "KQJ2ntgFzpEZ",
        "outputId": "dcb72cf7-2135-4518-f91c-3c54649b09bd"
      },
      "execution_count": null,
      "outputs": [
        {
          "output_type": "stream",
          "name": "stdout",
          "text": [
            "Requirement already satisfied: Flask in /usr/local/lib/python3.10/dist-packages (3.0.3)\n",
            "Requirement already satisfied: Werkzeug>=3.0.0 in /usr/local/lib/python3.10/dist-packages (from Flask) (3.1.3)\n",
            "Requirement already satisfied: Jinja2>=3.1.2 in /usr/local/lib/python3.10/dist-packages (from Flask) (3.1.4)\n",
            "Requirement already satisfied: itsdangerous>=2.1.2 in /usr/local/lib/python3.10/dist-packages (from Flask) (2.2.0)\n",
            "Requirement already satisfied: click>=8.1.3 in /usr/local/lib/python3.10/dist-packages (from Flask) (8.1.7)\n",
            "Requirement already satisfied: blinker>=1.6.2 in /usr/local/lib/python3.10/dist-packages (from Flask) (1.9.0)\n",
            "Requirement already satisfied: MarkupSafe>=2.0 in /usr/local/lib/python3.10/dist-packages (from Jinja2>=3.1.2->Flask) (3.0.2)\n"
          ]
        }
      ]
    },
    {
      "cell_type": "code",
      "source": [
        "\n",
        "from flask import Flask, request, jsonify, render_template\n",
        "\n",
        "app = Flask(__name__)\n",
        "\n",
        "@app.route('/')\n",
        "def index():\n",
        "    return render_template('index.html')\n",
        "\n",
        "@app.route('/analyze', methods=['POST'])\n",
        "def analyze():\n",
        "    components = request.form.get('components', '')\n",
        "    data_flows = request.form.get('data_flows', '')\n",
        "    trust_zones = request.form.get('trust_zones', '')\n",
        "\n",
        "    # Simple STRIDE Analysis\n",
        "    threats = []\n",
        "    for component in components.split('\\n'):\n",
        "        if component.strip():\n",
        "            threats.append(f\"STRIDE Analysis for Component: {component.strip()}\")\n",
        "\n",
        "    response = {\n",
        "        \"components\": components,\n",
        "        \"data_flows\": data_flows,\n",
        "        \"trust_zones\": trust_zones,\n",
        "        \"threats\": threats\n",
        "    }\n",
        "    return jsonify(response)\n",
        "\n",
        "if __name__ == '__main__':\n",
        "    app.run(debug=True)\n"
      ],
      "metadata": {
        "colab": {
          "base_uri": "https://localhost:8080/"
        },
        "id": "E1XUyTfczEV6",
        "outputId": "d244d8c9-07d9-4597-b14c-ff2043b51a0c"
      },
      "execution_count": null,
      "outputs": [
        {
          "output_type": "stream",
          "name": "stdout",
          "text": [
            " * Serving Flask app '__main__'\n",
            " * Debug mode: on\n"
          ]
        },
        {
          "output_type": "stream",
          "name": "stderr",
          "text": [
            "INFO:werkzeug:\u001b[31m\u001b[1mWARNING: This is a development server. Do not use it in a production deployment. Use a production WSGI server instead.\u001b[0m\n",
            " * Running on http://127.0.0.1:5000\n",
            "INFO:werkzeug:\u001b[33mPress CTRL+C to quit\u001b[0m\n",
            "INFO:werkzeug: * Restarting with stat\n"
          ]
        }
      ]
    }
  ]
}