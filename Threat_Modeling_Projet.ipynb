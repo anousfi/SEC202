{
  "nbformat": 4,
  "nbformat_minor": 0,
  "metadata": {
    "colab": {
      "provenance": [],
      "authorship_tag": "ABX9TyPUsyXT0/2n51Bm58xWSATe"
    },
    "kernelspec": {
      "name": "python3",
      "display_name": "Python 3"
    },
    "language_info": {
      "name": "python"
    }
  },
  "cells": [
    {
      "cell_type": "markdown",
      "source": [
        "Les étapes décrites dans le document (comme l'utilisation de **STRIDE-per-element** et la création de **diagrammes de flux de données**) pourraient être traduites en outils ou scripts automatisés pour faciliter la mise en œuvre de la méthodologie. Par ailleurs, des schémas explicatifs sont fournis pour illustrer les processus.\n",
        "\n",
        "### Implémentation pratique\n",
        "\n",
        "*\tTraduire les étapes en outils spécifiques (par exemple, des scripts pour analyser les DFD).\n",
        "*\tAutomatiser les procédures décrites (comme l'élaboration de taxonomies d'attaques ou l'application des catégories STRIDE).\n",
        "*\tS'appuyer sur des outils de modélisation, **NetworkX** par exemple, et les adapter aux spécificités des CPS.\n"
      ],
      "metadata": {
        "id": "FdKVAf6zQKDt"
      }
    },
    {
      "cell_type": "markdown",
      "source": [
        "Le **cas d’étude** sert à valider la méthodologie proposée et peut inspirer une implémentation réelle.\n",
        "\n",
        "## Eléments technologiques clés\n",
        "\n",
        "Le document propose une **méthodologie** technologique adaptable et modulaire pour les **systèmes cyber-physiques**, qui pourrait être intégrée dans des outils de modélisation assistée par ordinateur ou des solutions d'analyse des menaces.\n",
        "\n",
        "### Modélisation des menaces basée sur STRIDE\n",
        "\n",
        "*\tApproche STRIDE-per-element pour analyser chaque composant des diagrammes de flux de données (DFD).\n",
        "*\tSTRIDE est utilisé pour identifier les catégories de menaces : Spoofing, Tampering, Repudiation, Information Disclosure, Denial of Service, Elevation of Privilege.\n",
        "*\tOptimisation proposée : ignorer les flux internes aux zones de confiance pour réduire le nombre de menaces à évaluer.\n",
        "\n",
        "### Diagrammes de flux de données (DFD)\n",
        "\n",
        "*\tIdentification des flux de données, des processus, des entités, et des magasins de données dans un système cyber-physique (CPS).\n",
        "*\tInclusion des composants physiques et des flux analogiques pour mieux refléter les interactions dans les CPS.\n",
        "\n",
        "### Taxonomie des attaques\n",
        "\n",
        "*\tCréation d’une taxonomie initiale des attaques à partir d’une revue de la littérature.\n",
        "*\tActualisation dynamique de la taxonomie basée sur les nouvelles menaces identifiées.\n",
        "\n",
        "### Gestion des frontières de confiance (Trust Boundaries)\n",
        "\n",
        "*\tDéfinition des zones de confiance et documentation des hypothèses de sécurité.\n",
        "*\tUtilisation pour guider l'analyse des menaces à travers les frontières de confiance.\n",
        "\n",
        "### Priorisation des menaces et exigences de sécurité\n",
        "\n",
        "*\tÉvaluation des conséquences et des pertes potentielles associées aux menaces identifiées.\n",
        "*\tClassement des menaces par priorité pour orienter les choix des contre-mesures et des exigences de sécurité.\n",
        "\n",
        "### Procédure d’élaboration des menaces (Threat Elicitation)\n",
        "\n",
        "*\tProcessus systématique intégrant :\n",
        "1.\tSélection des éléments DFD.\n",
        "2.\tIdentification des actifs d’information associés.\n",
        "3.\tApplication des catégories STRIDE.\n",
        "4.\tUtilisation de la taxonomie des attaques pour associer des types d'attaques spécifiques.\n",
        "\n",
        "*\tPossibilité d’automatisation pour générer des modèles de menaces par défaut.\n",
        "\n",
        "### Outils collaboratifs et pluridisciplinaires\n",
        "\n",
        "*\tImplication des experts en cybersécurité, des architectes systèmes, et des propriétaires du système dans toutes les étapes clés.\n",
        "\n",
        "### Applications spécifiques aux CPS\n",
        "\n",
        "*\tAdaptations pour les systèmes complexes comme les microgrid, avec des considérations spécifiques pour :\n",
        "1.\tLes informations en temps réel vs non temps réel.\n",
        "2.\tL'intégration de données externes (par ex., prévisions météorologiques ou prix de l'énergie).\n",
        "\n"
      ],
      "metadata": {
        "id": "trEJWQ-kRMsr"
      }
    },
    {
      "cell_type": "markdown",
      "source": [
        "## Implémentation des Concepts du Document\n",
        "\n",
        "Implémenter les concepts décrits dans le document.\n",
        "\n",
        "**Identification des Actifs**\n",
        "\n",
        "Identifier les actifs critiques du système. Cela peut inclure des composants matériels, des logiciels, des réseaux, des capteurs, des contrôleurs, etc.\n",
        "\n",
        "**Identification des Points d'Accès**\n",
        "\n",
        "Identifier les points d'accès au système, tels que les ports matériels, les interfaces utilisateur, les sockets ouverts, et les fichiers de configuration.\n",
        "\n",
        "**Classification des Menaces**\n",
        "\n",
        "Utiliser la méthodologie STRIDE pour classer les menaces potentielles. STRIDE couvre les catégories suivantes :\n",
        "\n",
        "* spoofing (Usurpation d'identité)\n",
        "* tampering (Altération)\n",
        "* repudiation (Répudiation)\n",
        "* information Disclosure (Divulgation d'informations)\n",
        "* denial of Service (Déni de service)\n",
        "* elevation of Privilege (Élévation des privilèges)\n",
        "\n",
        "**Évaluation des Risques**\n",
        "\n",
        "Utiliser le modèle DREAD pour évaluer les risques associés à chaque menace. DREAD couvre les aspects suivants :\n",
        "\n",
        "* damage (Dommages)\n",
        "* reproducibility (Reproductibilité)\n",
        "* exploitability (Exploitabilité)\n",
        "* affected Users (Utilisateurs affectés)\n",
        "* discoverability (Détectabilité)\n",
        "\n",
        "**Proposition de Contre-Mesures**\n",
        "\n",
        "Développer des contre-mesures pour atténuer les risques identifiés. Cela peut inclure des mesures de sécurité telles que l'authentification, le durcissement des applications, la journalisation, la ségrégation, le chiffrement, et la redondance.\n"
      ],
      "metadata": {
        "id": "gSlmi4bTLfyp"
      }
    },
    {
      "cell_type": "code",
      "source": [],
      "metadata": {
        "id": "H9qfJ7f_TUca"
      },
      "execution_count": null,
      "outputs": []
    },
    {
      "cell_type": "markdown",
      "source": [
        "\n",
        "## Méthodologie\n",
        "\n",
        "La méthodologie présentée dans l'article comprend neuf étapes clés pour modéliser les menaces sur un système donné, comme les dispositifs IoT ou, dans ce cas, un système de gestion d'eau (WGS).\n",
        "\n",
        "###### Les étapes et leur application détaillée au cas concret du WGS\n",
        "\n",
        "#### Identification des actifs\n",
        "\n",
        "Cette étape consiste à identifier les éléments de valeur dans le système susceptibles d'être attaqués. Dans le cas du WGS, ces actifs incluent des composants matériels et logiciels (capteurs, contrôleurs logiques programmables, interfaces homme-machine, etc.), les réseaux, les sources d'énergie, et les différents utilisateurs interagissant avec le système. Chaque actif est analysé pour comprendre son rôle et sa vulnérabilité potentielle.\n",
        "\n",
        "#### Identification des points d'accès\n",
        "\n",
        "On identifie les interfaces susceptibles d’être utilisées par des attaquants pour obtenir un accès non autorisé aux actifs. Pour le WGS, ces points incluent les ports matériels, les interfaces utilisateur, les fichiers de configuration, et les connexions réseau. La définition de ces points d'accès permet aussi d'établir des frontières de confiance dans le système.\n",
        "\n",
        "#### Classification des menaces\n",
        "\n",
        "Les menaces sont classées en utilisant la méthodologie STRIDE, qui couvre le spoofing, le tampering, la repudiation, la divulgation d'informations, le déni de service, et l'élévation de privilèges. Pour le WGS, **154 menaces** ont été identifiées, réparties entre ces catégories. Par exemple, une menace de déni de service pourrait viser à rendre des capteurs inaccessibles.\n",
        "\n",
        "#### Évaluation des menaces identifiées\n",
        "\n",
        "Les menaces sont évaluées à l'aide du modèle DREAD, qui calcule un score basé sur les dommages potentiels, la reproductibilité, la facilité d'exploitation, l'impact sur les utilisateurs, et la détectabilité. Ces scores sont ensuite utilisés pour hiérarchiser les menaces selon leur gravité. Par exemple, une attaque entraînant un dysfonctionnement des pompes d'eau pourrait avoir un score élevé.\n",
        "\n",
        "#### Proposition de contre-mesures\n",
        "\n",
        "Les contre-mesures sont proposées pour atténuer les menaces identifiées, en priorisant celles avec les scores de risque les plus élevés. Dans le cas du WGS, cela inclut l'authentification stricte, la surveillance des accès physiques, et des pare-feux pour protéger les communications réseau.\n",
        "\n",
        "#### Analyse de risque basée sur l’architecture WGS\n",
        "\n",
        "En analysant l'architecture du WGS, les zones de confiance ont été définies sur plusieurs couches, de la couche physique (pompes, réservoirs) à la couche logicielle (SCADA). Cela a permis de mieux comprendre comment les menaces peuvent se propager entre les couches.\n",
        "\n",
        "#### Modélisation des menaces\n",
        "\n",
        "Un modèle de menace basé sur les flux de données et les zones de confiance a été créé, identifiant les menaces exploitant des vulnérabilités spécifiques du système. Les diagrammes de flux de données ont permis de visualiser les interactions entre les éléments du WGS et de détecter les failles potentielles.\n",
        "\n",
        "#### Évaluation des impacts\n",
        "\n",
        "Les menaces critiques ont été analysées pour évaluer leur impact potentiel, comme la contamination de l'eau ou l'interruption de la distribution. Cela a servi de base pour déterminer les priorités des actions à entreprendre.\n",
        "\n",
        "#### Application des contre-mesures\n",
        "\n",
        "Les contre-mesures ont été intégrées en fonction des risques évalués. Par exemple, pour les menaces de divulgation d'informations, l’utilisation de VPNs et de protocoles sécurisés a été recommandée.\n",
        "\n",
        "\n",
        "# Application concrète de la méthodologie de modélisation des menaces\n",
        "\n",
        "L'application concrète de la méthodologie de modélisation des menaces est décrite dans le contexte d'un système de gestion de l'eau (WGS).\n",
        "\n",
        "### Architecture du système WGS\n",
        "\n",
        "Le système WGS est composé de pompes d'eau, réservoirs, tuyaux et vannes, avec des capteurs de pression, qualité et niveau d'eau, ainsi que des contrôleurs logiques programmables (PLC) et un système SCADA. Ces composants permettent l'automatisation de l'approvisionnement en eau.\n",
        "\n",
        "L'architecture est divisée en plusieurs couches :\n",
        "\n",
        "*\tCouche 0\n",
        "\n",
        "Appareils sur le terrain qui collectent des données analogiques et reçoivent des commandes pour maintenir la stabilité du système. Cette couche nécessite une surveillance physique stricte.\n",
        "\n",
        "*\tCouche 1\n",
        "\n",
        "Dispositifs traitant les informations de la couche 0 et contrôlant le système. Ces dispositifs nécessitent des restrictions d'accès physique.\n",
        "\n",
        "*\tCouche 2\n",
        "\n",
        "Interfaces homme-machine (HMI) qui permettent aux opérateurs d'interagir avec les contrôleurs matériels.\n",
        "\n",
        "*\tCouche 3\n",
        "\n",
        "Communication machine à machine (M2M) entre dispositifs connectés.\n",
        "\n",
        "*\tCouche 4\n",
        "\n",
        "Infrastructure SCADA pour la collecte et l'analyse de données. Les défaillances ou attaques sur SCADA peuvent perturber gravement le système.\n",
        "\n",
        "*\tCouche 5\n",
        "\n",
        "Séparation physique et logique entre les réseaux opérationnels (OT) et informatiques (IT), avec une solution VPN assurant un flux de données sécurisé.\n",
        "\n",
        "### Modélisation des menaces appliquée au WGS\n",
        "\n",
        "La méthodologie de modélisation des menaces est appliquée pour identifier les vulnérabilités et proposer des contre-mesures.\n",
        "Cette méthodologie permet de renforcer la sécurité du WGS en minimisant les vulnérabilités et en priorisant les actions correctives en fonction des risques identifiés.\n",
        "\n",
        "1.\tIdentification des actifs\n",
        "2.\tIdentification des points d'accès\n",
        "3.\tClassification des menaces\n",
        "4.\tÉvaluation des menaces\n",
        "5.\tContre-mesures proposées"
      ],
      "metadata": {
        "id": "3ybno0SuTV5Z"
      }
    },
    {
      "cell_type": "markdown",
      "source": [
        "# Implémenter un **Threat Modeling** en Python.\n",
        "\n",
        "Bien que le processus de threat modeling soit principalement conceptuel et analytique, nous pouvons utiliser Python, pour automatiser certaines parties du processus, telles que l'analyse des données, la génération de diagrammes, et la gestion des risques.\n",
        "\n",
        "Nous pouvons automatiser et structurer certaines parties du processus de threat modeling. Cela peut inclure la gestion des actifs, l'identification des points d'accès, la classification des menaces, l'évaluation des menaces, et la proposition de contre-mesures. Python peut être un outil puissant pour faciliter et documenter ce processus.\n",
        "\n",
        "### Identification des Actifs et des Menaces\n",
        "\n",
        "#### Identifier les actifs et les menaces dans un système de gestion de l'eau.\n",
        "\n",
        "En suivant les étapes et en utilisant les concepts décrits dans le document, nous pouvons implémenter une approche **systématique** pour identifier, évaluer et atténuer les menaces dans un système de gestion de l'eau ou toute autre infrastructure critique. L'utilisation de méthodologies telles que STRIDE et DREAD aidera à structurer l’analyse des risques et à développer des contre-mesures efficaces.\n",
        "\n",
        "##### Description d'architecture\n",
        "\n",
        "Le texte décrit un système complexe basé sur une architecture de gestion de l'eau organisée en couches, mais il s'agit principalement d'une analyse théorique ou conceptuelle de cette architecture. Chaque couche est expliquée en termes de rôle et de vulnérabilités potentielles.\n",
        "\n",
        "##### Absence d'implémentation directe\n",
        "\n",
        "Les couches et leurs rôles (du capteur physique au SCADA, jusqu'aux VPN) sont décrits, mais aucune mention spécifique n'est faite concernant un code, des logiciels spécifiques ou des matériels qui auraient été développés pour cette architecture.\n",
        "\n",
        "##### Une analyse conceptuelle, un modèle de référence\n",
        "\n",
        "L'accent est mis sur la sécurité et les vulnérabilités de l'architecture WGS, en particulier face aux cyberattaques.\n",
        "\n",
        "\n",
        "\n",
        "1. Identification des actifs\n",
        "\n",
        "Les actifs critiques incluent les capteurs, PLC, composants SCADA et les réseaux connectés. Ces éléments sont les cibles principales des attaques.\n",
        "\n",
        "Lister et évaluer les actifs du système.\n"
      ],
      "metadata": {
        "id": "u9_DmTA93SaI"
      }
    },
    {
      "cell_type": "code",
      "execution_count": 13,
      "metadata": {
        "colab": {
          "base_uri": "https://localhost:8080/"
        },
        "id": "btSDvCHY3Lcz",
        "outputId": "88bcfad4-9ee7-4ba0-83ef-88d0cf32501d"
      },
      "outputs": [
        {
          "output_type": "stream",
          "name": "stdout",
          "text": [
            "Asset: Capteur de pression d'eau, Value: High\n",
            "Asset: Réservoir, Value: High\n",
            "Asset: Pompe, Value: Medium\n",
            "Asset: Vanne, Value: Medium\n",
            "Asset: Système de contrôle SCADA, Value: High\n",
            "Asset: Logiciel de gestion des ressources en eau, Value: High\n",
            "Asset: Réseau de communication, Value: High\n",
            "Asset: Opérateur, Value: High\n",
            "Asset: Administrateur, Value: High\n",
            "Asset: Utilisateur final, Value: Medium\n"
          ]
        }
      ],
      "source": [
        "# Liste d'actifs - à compléter\n",
        "assets = [\n",
        "    {\"name\": \"Capteur de pression d'eau\", \"value\": \"High\"},\n",
        "    {\"name\": \"Réservoir\", \"value\": \"High\"},\n",
        "    {\"name\": \"Pompe\", \"value\": \"Medium\"},\n",
        "    {\"name\": \"Vanne\", \"value\": \"Medium\"},\n",
        "    {\"name\": \"Système de contrôle SCADA\", \"value\": \"High\"},\n",
        "    {\"name\": \"Logiciel de gestion des ressources en eau\", \"value\": \"High\"},\n",
        "    {\"name\": \"Réseau de communication\", \"value\": \"High\"},\n",
        "    {\"name\": \"Opérateur\", \"value\": \"High\"},\n",
        "    {\"name\": \"Administrateur\", \"value\": \"High\"},\n",
        "    {\"name\": \"Utilisateur final\", \"value\": \"Medium\"}\n",
        "]\n",
        "\n",
        "# Fonction pour évaluer la valeur des actifs\n",
        "def evaluate_assets(assets):\n",
        "    for asset in assets:\n",
        "        print(f\"Asset: {asset['name']}, Value: {asset['value']}\")\n",
        "\n",
        "evaluate_assets(assets)\n"
      ]
    },
    {
      "cell_type": "markdown",
      "source": [
        "2. Identification des points d'accès\n",
        "\n",
        "Les points d'accès incluent les interfaces matérielles, fichiers de configuration, et interfaces utilisateurs. Par exemple, un réseau peut définir des limites de confiance (**trust boundaries**) pour contrôler les accès.\n",
        "\n",
        "Lister et évaluer les points d'accès du système."
      ],
      "metadata": {
        "id": "66e2mXxsEfJ5"
      }
    },
    {
      "cell_type": "code",
      "source": [
        "# Liste de points d'accès - à compléter\n",
        "access_points = [\n",
        "    {\"name\": \"Ports USB pour la maintenance des capteurs\", \"trust_level\": \"Low\"},\n",
        "    {\"name\": \"Interfaces web pour la gestion des réservoirs\", \"trust_level\": \"Medium\"},\n",
        "    {\"name\": \"Ports réseau ouverts pour la communication entre les capteurs et les contrôleurs\", \"trust_level\": \"High\"},\n",
        "    {\"name\": \"Fichiers de configuration des dispositifs SCADA\", \"trust_level\": \"High\"}\n",
        "]\n",
        "\n",
        "# Fonction pour évaluer les points d'accès\n",
        "def evaluate_access_points(access_points):\n",
        "    for point in access_points:\n",
        "        print(f\"Access Point: {point['name']}, Trust Level: {point['trust_level']}\")\n",
        "\n",
        "evaluate_access_points(access_points)\n"
      ],
      "metadata": {
        "colab": {
          "base_uri": "https://localhost:8080/",
          "height": 0
        },
        "id": "qSk3AgeLEVEy",
        "outputId": "928e793c-1304-4035-b432-7830da5f2389"
      },
      "execution_count": 7,
      "outputs": [
        {
          "output_type": "stream",
          "name": "stdout",
          "text": [
            "Access Point: Ports USB pour la maintenance des capteurs, Trust Level: Low\n",
            "Access Point: Interfaces web pour la gestion des réservoirs, Trust Level: Medium\n",
            "Access Point: Ports réseau ouverts pour la communication entre les capteurs et les contrôleurs, Trust Level: High\n",
            "Access Point: Fichiers de configuration des dispositifs SCADA, Trust Level: High\n"
          ]
        }
      ]
    },
    {
      "cell_type": "markdown",
      "source": [
        "3. Classification des Menaces\n",
        "\n",
        "Les menaces sont catégorisées à l'aide de la méthodologie STRIDE :\n",
        "\n",
        "*\tSpoofing (usurpation) : 30 menaces\n",
        "*\tTampering (altération) : 15 menaces\n",
        "*\tRepudiation (non-repudiation) : 22 menaces\n",
        "*\tInformation Disclosure (divulgation) : 2 menaces\n",
        "*\tDenial of Service (DoS) : 46 menaces\n",
        "*\tElevation of Privilege : 39 menaces\n",
        "\n",
        "Classifier les menaces en utilisant la méthodologie STRIDE.\n"
      ],
      "metadata": {
        "id": "OrSoA3QFFFCs"
      }
    },
    {
      "cell_type": "code",
      "source": [
        "# Liste de menaces - à compléter\n",
        "threats = [\n",
        "    {\"name\": \"Usurpation d'identité des opérateurs\", \"category\": \"Spoofing\"},\n",
        "    {\"name\": \"Modification non autorisée des données des capteurs\", \"category\": \"Tampering\"},\n",
        "    {\"name\": \"Négation des actions effectuées par les opérateurs\", \"category\": \"Repudiation\"},\n",
        "    {\"name\": \"Divulgation non autorisée des données de pression d'eau\", \"category\": \"Information Disclosure\"},\n",
        "    {\"name\": \"Interruption des communications entre les capteurs et les contrôleurs\", \"category\": \"Denial of Service\"},\n",
        "    {\"name\": \"Élévation des privilèges non autorisée des utilisateurs finaux\", \"category\": \"Elevation of Privilege\"}\n",
        "]\n",
        "\n",
        "# Fonction pour classifier les menaces\n",
        "def classify_threats(threats):\n",
        "    for threat in threats:\n",
        "        print(f\"Threat: {threat['name']}, Category: {threat['category']}\")\n",
        "\n",
        "classify_threats(threats)\n"
      ],
      "metadata": {
        "colab": {
          "base_uri": "https://localhost:8080/",
          "height": 0
        },
        "id": "zkmOJ9wEFKRx",
        "outputId": "fff50915-4dca-4e7a-e27b-b771bce59d71"
      },
      "execution_count": 8,
      "outputs": [
        {
          "output_type": "stream",
          "name": "stdout",
          "text": [
            "Threat: Usurpation d'identité des opérateurs, Category: Spoofing\n",
            "Threat: Modification non autorisée des données des capteurs, Category: Tampering\n",
            "Threat: Négation des actions effectuées par les opérateurs, Category: Repudiation\n",
            "Threat: Divulgation non autorisée des données de pression d'eau, Category: Information Disclosure\n",
            "Threat: Interruption des communications entre les capteurs et les contrôleurs, Category: Denial of Service\n",
            "Threat: Élévation des privilèges non autorisée des utilisateurs finaux, Category: Elevation of Privilege\n"
          ]
        }
      ]
    },
    {
      "cell_type": "code",
      "source": [
        "import pandas as pd\n",
        "\n",
        "assets_df = pd.DataFrame(assets)\n",
        "threats_df = pd.DataFrame(threats)\n",
        "\n",
        "# Afficher les actifs et les menaces\n",
        "print(\"Actifs :\")\n",
        "print(assets_df)\n",
        "\n",
        "print(\"\\nMenaces :\")\n",
        "print(threats_df)\n",
        "\n",
        "# Identifier les actifs critiques\n",
        "critical_assets = assets_df[assets_df[\"value\"] == \"High\"]\n",
        "print(\"\\nActifs critiques :\")\n",
        "print(critical_assets)\n",
        "\n",
        "# Ajouter une colonne 'risk' pour exemple dans threats_df\n",
        "threats_df[\"risk\"] = [\"High\", \"High\", \"Medium\", \"Medium\", \"High\", \"High\"]\n",
        "\n",
        "# Identifier les menaces à haut risque\n",
        "high_risk_threats = threats_df[threats_df[\"risk\"] == \"High\"]\n",
        "print(\"\\nMenaces à haut risque :\")\n",
        "print(high_risk_threats)\n"
      ],
      "metadata": {
        "colab": {
          "base_uri": "https://localhost:8080/"
        },
        "id": "mV1i0QFeNwAO",
        "outputId": "6623d2ca-eb32-4bb5-9562-5845e028ecb5"
      },
      "execution_count": 15,
      "outputs": [
        {
          "output_type": "stream",
          "name": "stdout",
          "text": [
            "Actifs :\n",
            "                                        name   value\n",
            "0                  Capteur de pression d'eau    High\n",
            "1                                  Réservoir    High\n",
            "2                                      Pompe  Medium\n",
            "3                                      Vanne  Medium\n",
            "4                  Système de contrôle SCADA    High\n",
            "5  Logiciel de gestion des ressources en eau    High\n",
            "6                    Réseau de communication    High\n",
            "7                                  Opérateur    High\n",
            "8                             Administrateur    High\n",
            "9                          Utilisateur final  Medium\n",
            "\n",
            "Menaces :\n",
            "                                                name                category\n",
            "0               Usurpation d'identité des opérateurs                Spoofing\n",
            "1  Modification non autorisée des données des cap...               Tampering\n",
            "2  Négation des actions effectuées par les opérat...             Repudiation\n",
            "3  Divulgation non autorisée des données de press...  Information Disclosure\n",
            "4  Interruption des communications entre les capt...       Denial of Service\n",
            "5  Élévation des privilèges non autorisée des uti...  Elevation of Privilege\n",
            "\n",
            "Actifs critiques :\n",
            "                                        name value\n",
            "0                  Capteur de pression d'eau  High\n",
            "1                                  Réservoir  High\n",
            "4                  Système de contrôle SCADA  High\n",
            "5  Logiciel de gestion des ressources en eau  High\n",
            "6                    Réseau de communication  High\n",
            "7                                  Opérateur  High\n",
            "8                             Administrateur  High\n",
            "\n",
            "Menaces à haut risque :\n",
            "                                                name                category  \\\n",
            "0               Usurpation d'identité des opérateurs                Spoofing   \n",
            "1  Modification non autorisée des données des cap...               Tampering   \n",
            "4  Interruption des communications entre les capt...       Denial of Service   \n",
            "5  Élévation des privilèges non autorisée des uti...  Elevation of Privilege   \n",
            "\n",
            "   risk  \n",
            "0  High  \n",
            "1  High  \n",
            "4  High  \n",
            "5  High  \n"
          ]
        }
      ]
    },
    {
      "cell_type": "markdown",
      "source": [
        "4. Évaluation des Menaces\n",
        "\n",
        "Les menaces sont notées selon le modèle DREAD, qui évalue leur impact, reproductibilité, facilité d'exploitation, étendue et gravité.\n",
        "\n",
        "Evaluer les menaces en utilisant le modèle DREAD."
      ],
      "metadata": {
        "id": "kFC6lhtaFYGo"
      }
    },
    {
      "cell_type": "code",
      "source": [
        "# Liste de menaces avec évaluation DREAD - à compléter\n",
        "threats_dread = [\n",
        "    {\"name\": \"Usurpation d'identité des opérateurs\", \"damage\": 3, \"reproducibility\": 2, \"exploitability\": 2, \"affected_users\": 3, \"discoverability\": 1},\n",
        "    {\"name\": \"Modification non autorisée des données des capteurs\", \"damage\": 2, \"reproducibility\": 3, \"exploitability\": 3, \"affected_users\": 3, \"discoverability\": 2},\n",
        "    {\"name\": \"Négation des actions effectuées par les opérateurs\", \"damage\": 3, \"reproducibility\": 2, \"exploitability\": 2, \"affected_users\": 3, \"discoverability\": 2},\n",
        "    {\"name\": \"Divulgation non autorisée des données de pression d'eau\", \"damage\": 3, \"reproducibility\": 3, \"exploitability\": 2, \"affected_users\": 2, \"discoverability\": 1},\n",
        "    {\"name\": \"Interruption des communications entre les capteurs et les contrôleurs\", \"damage\": 3, \"reproducibility\": 2, \"exploitability\": 2, \"affected_users\": 3, \"discoverability\": 3},\n",
        "    {\"name\": \"Élévation des privilèges non autorisée des utilisateurs finaux\", \"damage\": 1, \"reproducibility\": 2, \"exploitability\": 2, \"affected_users\": 2, \"discoverability\": 2}\n",
        "]\n",
        "\n",
        "# Fonction pour évaluer les menaces en utilisant DREAD\n",
        "def evaluate_threats_dread(threats):\n",
        "    for threat in threats:\n",
        "        total = threat['damage'] + threat['reproducibility'] + threat['exploitability'] + threat['affected_users'] + threat['discoverability']\n",
        "        rating = \"High\" if total >= 12 else \"Medium\" if total >= 8 else \"Low\"\n",
        "        print(f\"Threat: {threat['name']}, Total: {total}, Rating: {rating}\")\n",
        "\n",
        "evaluate_threats_dread(threats_dread)\n"
      ],
      "metadata": {
        "colab": {
          "base_uri": "https://localhost:8080/",
          "height": 0
        },
        "id": "B8BU2D7FFeAc",
        "outputId": "8ef33711-71c3-455c-dd89-192b1dc3628d"
      },
      "execution_count": 9,
      "outputs": [
        {
          "output_type": "stream",
          "name": "stdout",
          "text": [
            "Threat: Usurpation d'identité des opérateurs, Total: 11, Rating: Medium\n",
            "Threat: Modification non autorisée des données des capteurs, Total: 13, Rating: High\n",
            "Threat: Négation des actions effectuées par les opérateurs, Total: 12, Rating: High\n",
            "Threat: Divulgation non autorisée des données de pression d'eau, Total: 11, Rating: Medium\n",
            "Threat: Interruption des communications entre les capteurs et les contrôleurs, Total: 13, Rating: High\n",
            "Threat: Élévation des privilèges non autorisée des utilisateurs finaux, Total: 9, Rating: Medium\n"
          ]
        }
      ]
    },
    {
      "cell_type": "markdown",
      "source": [
        "5. Proposition de contre-mesures\n",
        "\n",
        "Les risques élevés identifiés sont traités en priorité. Par exemple :\n",
        "\n",
        "*\tSurveillance physique pour les couches inférieures.\n",
        "*\tSécurisation des communications SCADA avec des protocoles robustes.\n",
        "*\tMise en place de pare-feu et de segmentation réseau.\n",
        "*\tAuthentification forte pour accéder aux interfaces utilisateur.\n",
        "\n",
        "Proposer des contre-mesures en fonction des évaluations des menaces."
      ],
      "metadata": {
        "id": "0Bz5M5EhF3HZ"
      }
    },
    {
      "cell_type": "code",
      "source": [
        "# Liste de contre-mesures - à compléter\n",
        "countermeasures = [\n",
        "    {\"threat\": \"Usurpation d'identité des opérateurs\", \"countermeasure\": \"Mettre en place des mécanismes d'authentification robustes\"},\n",
        "    {\"threat\": \"Modification non autorisée des données des capteurs\", \"countermeasure\": \"Utiliser des techniques de durcissement des applications et des dispositifs\"},\n",
        "    {\"threat\": \"Négation des actions effectuées par les opérateurs\", \"countermeasure\": \"Mettre en place des journaux d'audit et des mécanismes de non-répudiation\"},\n",
        "    {\"threat\": \"Divulgation non autorisée des données de pression d'eau\", \"countermeasure\": \"Utiliser des techniques de chiffrement et de ségrégation des données\"},\n",
        "    {\"threat\": \"Interruption des communications entre les capteurs et les contrôleurs\", \"countermeasure\": \"Mettre en place des mécanismes de redondance et de gestion des ressources\"},\n",
        "    {\"threat\": \"Élévation des privilèges non autorisée des utilisateurs finaux\", \"countermeasure\": \"Mettre en place des contrôles d'accès stricts et des mécanismes de surveillance\"}\n",
        "]\n",
        "\n",
        "# Fonction pour proposer des contre-mesures\n",
        "def propose_countermeasures(countermeasures):\n",
        "    for countermeasure in countermeasures:\n",
        "        print(f\"Threat: {countermeasure['threat']}, Countermeasure: {countermeasure['countermeasure']}\")\n",
        "\n",
        "propose_countermeasures(countermeasures)\n"
      ],
      "metadata": {
        "colab": {
          "base_uri": "https://localhost:8080/",
          "height": 0
        },
        "id": "DzGDsOeEF25i",
        "outputId": "38f79e0a-640f-463b-cfb3-cd57584d65d9"
      },
      "execution_count": 10,
      "outputs": [
        {
          "output_type": "stream",
          "name": "stdout",
          "text": [
            "Threat: Usurpation d'identité des opérateurs, Countermeasure: Mettre en place des mécanismes d'authentification robustes\n",
            "Threat: Modification non autorisée des données des capteurs, Countermeasure: Utiliser des techniques de durcissement des applications et des dispositifs\n",
            "Threat: Négation des actions effectuées par les opérateurs, Countermeasure: Mettre en place des journaux d'audit et des mécanismes de non-répudiation\n",
            "Threat: Divulgation non autorisée des données de pression d'eau, Countermeasure: Utiliser des techniques de chiffrement et de ségrégation des données\n",
            "Threat: Interruption des communications entre les capteurs et les contrôleurs, Countermeasure: Mettre en place des mécanismes de redondance et de gestion des ressources\n",
            "Threat: Élévation des privilèges non autorisée des utilisateurs finaux, Countermeasure: Mettre en place des contrôles d'accès stricts et des mécanismes de surveillance\n"
          ]
        }
      ]
    },
    {
      "cell_type": "markdown",
      "source": [
        "# Développer une application basée sur un système de gestion de réseau d'eau (WGS), partir d'un diagramme de flux de données (Figure 5)\n",
        "\n",
        "###### Partir d'un diagramme de flux de données (DFD)\n",
        "\n",
        "Le DFD montre comment les données circulent entre les différentes parties du système. Cela aide à comprendre les interactions essentielles entre capteurs, contrôleurs, interfaces utilisateur, bases de données et autres composants.\n",
        "\n",
        "### Identification des composants clés\n",
        "\n",
        "Chaque élément du DFD (par exemple, capteurs, SCADA, VPN, serveurs) correspond à une fonctionnalité ou une interface que l’application devra intégrer ou exploiter.\n",
        "\n",
        "### Analyse des vulnérabilités\n",
        "\n",
        "En partant du DFD, nous pouvons identifier les points sensibles du système en matière de sécurité et prévoir des mécanismes pour protéger les flux de données (par exemple, cryptage, authentification).\n",
        "\n",
        "### Planification modulaire\n",
        "\n",
        "Le DFD aide à structurer l’application en modules indépendants correspondant aux différentes zones de confiance ou couches du système (comme décrites dans le texte).\n",
        "\n",
        "# Utiliser le DFD pour développer une application\n",
        "\n",
        "Le DFD fournit une vue d'ensemble claire qui permet de structurer l'application en fonction des flux de données critiques et des besoins fonctionnels. C'est un point de départ idéal pour conceptualiser et planifier le développement.\n",
        "\n",
        "### Étudier les flux et les éléments du DFD\n",
        "\n",
        "Analyser les données qui circulent entre les composants (par exemple, les capteurs envoient des données de pression au contrôleur, qui les transmet au SCADA).\n",
        "\n",
        "### Définir les exigences fonctionnelles\n",
        "\n",
        "Lister les fonctionnalités que l’application doit fournir pour gérer les flux.\n",
        "\n",
        "*\tLire les données des capteurs (Layer 0).\n",
        "*\tAfficher les données sur une interface graphique (Layer 2).\n",
        "*\tStocker les données pour analyse (Layer 3 ou 4).\n",
        "*\tMettre en œuvre des alertes ou des réponses automatiques (Layer 1 ou SCADA).\n",
        "\n",
        "### Concevoir l'architecture logicielle\n",
        "\n",
        "*\tSéparer les différents modules de l'application en suivant les couches ou zones décrites (capteurs, contrôleurs, SCADA, etc.).\n",
        "*\tPlanifier les interactions entre ces modules.\n",
        "\n",
        "### Implémenter la communication\n",
        "\n",
        "*\tDévelopper les protocoles ou les API nécessaires pour que les données circulent selon les flux décrits dans le DFD.\n",
        "*\tIntégrer des normes comme Modbus, OPC UA, ou des protocoles sécurisés pour SCADA.\n",
        "\n",
        "### Sécuriser le système\n",
        "\n",
        "Ajouter des mécanismes pour protéger les flux sensibles identifiés dans le DFD :\n",
        "\n",
        "*\tAuthentification et autorisation pour accéder aux couches.\n",
        "*\tChiffrement des données sensibles (VPN pour Layer 5).\n",
        "\n",
        "## Implémentation à partir du DFD\n",
        "\n",
        "Si le DFD montre que les données des capteurs passent par un contrôleur pour arriver à un serveur SCADA, l'application pourrait inclure :\n",
        "\n",
        "1.\tUn module pour collecter les données des capteurs via des interfaces comme UART ou Ethernet.\n",
        "2.\tUn autre pour afficher et gérer ces données via une interface HMI.\n",
        "3.\tUn backend pour stocker les données dans une base sécurisée.\n",
        "\n"
      ],
      "metadata": {
        "id": "K7tUYp5rX37I"
      }
    },
    {
      "cell_type": "code",
      "source": [],
      "metadata": {
        "id": "89gOPaviX3tE"
      },
      "execution_count": null,
      "outputs": []
    }
  ]
}